{
 "cells": [
  {
   "cell_type": "code",
   "execution_count": 1,
   "id": "bbb94e44",
   "metadata": {},
   "outputs": [],
   "source": [
    "import pandas as pd \n",
    "import numpy as np\n",
    "import warnings\n",
    "warnings.filterwarnings('ignore')\n",
    "from sklearn.datasets import load_iris"
   ]
  },
  {
   "cell_type": "markdown",
   "id": "8890bfc0",
   "metadata": {},
   "source": [
    "# FOR IRIS DATASET"
   ]
  },
  {
   "cell_type": "code",
   "execution_count": 2,
   "id": "b727bee6",
   "metadata": {},
   "outputs": [],
   "source": [
    "iris = load_iris()"
   ]
  },
  {
   "cell_type": "code",
   "execution_count": 3,
   "id": "1d4b3c64",
   "metadata": {},
   "outputs": [],
   "source": [
    "X = iris.data\n",
    "Y = iris.target"
   ]
  },
  {
   "cell_type": "code",
   "execution_count": 4,
   "id": "a3caf7d4",
   "metadata": {},
   "outputs": [],
   "source": [
    "iris_df = pd.DataFrame(X, columns=iris.feature_names)"
   ]
  },
  {
   "cell_type": "code",
   "execution_count": 5,
   "id": "0c8b3420",
   "metadata": {},
   "outputs": [],
   "source": [
    "iris_df[\"class\"] = Y"
   ]
  },
  {
   "cell_type": "code",
   "execution_count": 6,
   "id": "fe2ca059",
   "metadata": {},
   "outputs": [
    {
     "data": {
      "text/html": [
       "<div>\n",
       "<style scoped>\n",
       "    .dataframe tbody tr th:only-of-type {\n",
       "        vertical-align: middle;\n",
       "    }\n",
       "\n",
       "    .dataframe tbody tr th {\n",
       "        vertical-align: top;\n",
       "    }\n",
       "\n",
       "    .dataframe thead th {\n",
       "        text-align: right;\n",
       "    }\n",
       "</style>\n",
       "<table border=\"1\" class=\"dataframe\">\n",
       "  <thead>\n",
       "    <tr style=\"text-align: right;\">\n",
       "      <th></th>\n",
       "      <th>sepal length (cm)</th>\n",
       "      <th>sepal width (cm)</th>\n",
       "      <th>petal length (cm)</th>\n",
       "      <th>petal width (cm)</th>\n",
       "      <th>class</th>\n",
       "    </tr>\n",
       "  </thead>\n",
       "  <tbody>\n",
       "    <tr>\n",
       "      <th>0</th>\n",
       "      <td>5.1</td>\n",
       "      <td>3.5</td>\n",
       "      <td>1.4</td>\n",
       "      <td>0.2</td>\n",
       "      <td>0</td>\n",
       "    </tr>\n",
       "    <tr>\n",
       "      <th>1</th>\n",
       "      <td>4.9</td>\n",
       "      <td>3.0</td>\n",
       "      <td>1.4</td>\n",
       "      <td>0.2</td>\n",
       "      <td>0</td>\n",
       "    </tr>\n",
       "  </tbody>\n",
       "</table>\n",
       "</div>"
      ],
      "text/plain": [
       "   sepal length (cm)  sepal width (cm)  petal length (cm)  petal width (cm)  \\\n",
       "0                5.1               3.5                1.4               0.2   \n",
       "1                4.9               3.0                1.4               0.2   \n",
       "\n",
       "   class  \n",
       "0      0  \n",
       "1      0  "
      ]
     },
     "execution_count": 6,
     "metadata": {},
     "output_type": "execute_result"
    }
   ],
   "source": [
    "iris_df.head(2)"
   ]
  },
  {
   "cell_type": "code",
   "execution_count": 7,
   "id": "adccbe02",
   "metadata": {},
   "outputs": [
    {
     "name": "stdout",
     "output_type": "stream",
     "text": [
      "<class 'pandas.core.frame.DataFrame'>\n",
      "RangeIndex: 150 entries, 0 to 149\n",
      "Data columns (total 5 columns):\n",
      " #   Column             Non-Null Count  Dtype  \n",
      "---  ------             --------------  -----  \n",
      " 0   sepal length (cm)  150 non-null    float64\n",
      " 1   sepal width (cm)   150 non-null    float64\n",
      " 2   petal length (cm)  150 non-null    float64\n",
      " 3   petal width (cm)   150 non-null    float64\n",
      " 4   class              150 non-null    int32  \n",
      "dtypes: float64(4), int32(1)\n",
      "memory usage: 5.4 KB\n"
     ]
    }
   ],
   "source": [
    "iris_df.info()"
   ]
  },
  {
   "cell_type": "code",
   "execution_count": 8,
   "id": "888d2bde",
   "metadata": {},
   "outputs": [
    {
     "data": {
      "text/html": [
       "<div>\n",
       "<style scoped>\n",
       "    .dataframe tbody tr th:only-of-type {\n",
       "        vertical-align: middle;\n",
       "    }\n",
       "\n",
       "    .dataframe tbody tr th {\n",
       "        vertical-align: top;\n",
       "    }\n",
       "\n",
       "    .dataframe thead th {\n",
       "        text-align: right;\n",
       "    }\n",
       "</style>\n",
       "<table border=\"1\" class=\"dataframe\">\n",
       "  <thead>\n",
       "    <tr style=\"text-align: right;\">\n",
       "      <th></th>\n",
       "      <th>sepal length (cm)</th>\n",
       "      <th>sepal width (cm)</th>\n",
       "      <th>petal length (cm)</th>\n",
       "      <th>petal width (cm)</th>\n",
       "      <th>class</th>\n",
       "    </tr>\n",
       "  </thead>\n",
       "  <tbody>\n",
       "    <tr>\n",
       "      <th>count</th>\n",
       "      <td>150.000000</td>\n",
       "      <td>150.000000</td>\n",
       "      <td>150.000000</td>\n",
       "      <td>150.000000</td>\n",
       "      <td>150.000000</td>\n",
       "    </tr>\n",
       "    <tr>\n",
       "      <th>mean</th>\n",
       "      <td>5.843333</td>\n",
       "      <td>3.057333</td>\n",
       "      <td>3.758000</td>\n",
       "      <td>1.199333</td>\n",
       "      <td>1.000000</td>\n",
       "    </tr>\n",
       "    <tr>\n",
       "      <th>std</th>\n",
       "      <td>0.828066</td>\n",
       "      <td>0.435866</td>\n",
       "      <td>1.765298</td>\n",
       "      <td>0.762238</td>\n",
       "      <td>0.819232</td>\n",
       "    </tr>\n",
       "    <tr>\n",
       "      <th>min</th>\n",
       "      <td>4.300000</td>\n",
       "      <td>2.000000</td>\n",
       "      <td>1.000000</td>\n",
       "      <td>0.100000</td>\n",
       "      <td>0.000000</td>\n",
       "    </tr>\n",
       "    <tr>\n",
       "      <th>25%</th>\n",
       "      <td>5.100000</td>\n",
       "      <td>2.800000</td>\n",
       "      <td>1.600000</td>\n",
       "      <td>0.300000</td>\n",
       "      <td>0.000000</td>\n",
       "    </tr>\n",
       "    <tr>\n",
       "      <th>50%</th>\n",
       "      <td>5.800000</td>\n",
       "      <td>3.000000</td>\n",
       "      <td>4.350000</td>\n",
       "      <td>1.300000</td>\n",
       "      <td>1.000000</td>\n",
       "    </tr>\n",
       "    <tr>\n",
       "      <th>75%</th>\n",
       "      <td>6.400000</td>\n",
       "      <td>3.300000</td>\n",
       "      <td>5.100000</td>\n",
       "      <td>1.800000</td>\n",
       "      <td>2.000000</td>\n",
       "    </tr>\n",
       "    <tr>\n",
       "      <th>max</th>\n",
       "      <td>7.900000</td>\n",
       "      <td>4.400000</td>\n",
       "      <td>6.900000</td>\n",
       "      <td>2.500000</td>\n",
       "      <td>2.000000</td>\n",
       "    </tr>\n",
       "  </tbody>\n",
       "</table>\n",
       "</div>"
      ],
      "text/plain": [
       "       sepal length (cm)  sepal width (cm)  petal length (cm)  \\\n",
       "count         150.000000        150.000000         150.000000   \n",
       "mean            5.843333          3.057333           3.758000   \n",
       "std             0.828066          0.435866           1.765298   \n",
       "min             4.300000          2.000000           1.000000   \n",
       "25%             5.100000          2.800000           1.600000   \n",
       "50%             5.800000          3.000000           4.350000   \n",
       "75%             6.400000          3.300000           5.100000   \n",
       "max             7.900000          4.400000           6.900000   \n",
       "\n",
       "       petal width (cm)       class  \n",
       "count        150.000000  150.000000  \n",
       "mean           1.199333    1.000000  \n",
       "std            0.762238    0.819232  \n",
       "min            0.100000    0.000000  \n",
       "25%            0.300000    0.000000  \n",
       "50%            1.300000    1.000000  \n",
       "75%            1.800000    2.000000  \n",
       "max            2.500000    2.000000  "
      ]
     },
     "execution_count": 8,
     "metadata": {},
     "output_type": "execute_result"
    }
   ],
   "source": [
    "iris_df.describe()"
   ]
  },
  {
   "cell_type": "code",
   "execution_count": 9,
   "id": "7e61d15c",
   "metadata": {},
   "outputs": [
    {
     "data": {
      "text/plain": [
       "sepal length (cm)    0\n",
       "sepal width (cm)     0\n",
       "petal length (cm)    0\n",
       "petal width (cm)     0\n",
       "class                0\n",
       "dtype: int64"
      ]
     },
     "execution_count": 9,
     "metadata": {},
     "output_type": "execute_result"
    }
   ],
   "source": [
    "iris_df.isnull().sum()"
   ]
  },
  {
   "cell_type": "code",
   "execution_count": 10,
   "id": "413be659",
   "metadata": {},
   "outputs": [],
   "source": [
    "from sklearn.preprocessing import StandardScaler\n",
    "scaler = StandardScaler()\n",
    "\n",
    "scaled_iris = scaler.fit_transform(iris_df.iloc[:, :-1])"
   ]
  },
  {
   "cell_type": "code",
   "execution_count": 11,
   "id": "ac58e916",
   "metadata": {},
   "outputs": [],
   "source": [
    "X = pd.DataFrame(scaled_iris, columns = iris.feature_names)"
   ]
  },
  {
   "cell_type": "code",
   "execution_count": 12,
   "id": "737550d6",
   "metadata": {},
   "outputs": [
    {
     "data": {
      "text/html": [
       "<div>\n",
       "<style scoped>\n",
       "    .dataframe tbody tr th:only-of-type {\n",
       "        vertical-align: middle;\n",
       "    }\n",
       "\n",
       "    .dataframe tbody tr th {\n",
       "        vertical-align: top;\n",
       "    }\n",
       "\n",
       "    .dataframe thead th {\n",
       "        text-align: right;\n",
       "    }\n",
       "</style>\n",
       "<table border=\"1\" class=\"dataframe\">\n",
       "  <thead>\n",
       "    <tr style=\"text-align: right;\">\n",
       "      <th></th>\n",
       "      <th>sepal length (cm)</th>\n",
       "      <th>sepal width (cm)</th>\n",
       "      <th>petal length (cm)</th>\n",
       "      <th>petal width (cm)</th>\n",
       "    </tr>\n",
       "  </thead>\n",
       "  <tbody>\n",
       "    <tr>\n",
       "      <th>0</th>\n",
       "      <td>-0.900681</td>\n",
       "      <td>1.019004</td>\n",
       "      <td>-1.340227</td>\n",
       "      <td>-1.315444</td>\n",
       "    </tr>\n",
       "    <tr>\n",
       "      <th>1</th>\n",
       "      <td>-1.143017</td>\n",
       "      <td>-0.131979</td>\n",
       "      <td>-1.340227</td>\n",
       "      <td>-1.315444</td>\n",
       "    </tr>\n",
       "  </tbody>\n",
       "</table>\n",
       "</div>"
      ],
      "text/plain": [
       "   sepal length (cm)  sepal width (cm)  petal length (cm)  petal width (cm)\n",
       "0          -0.900681          1.019004          -1.340227         -1.315444\n",
       "1          -1.143017         -0.131979          -1.340227         -1.315444"
      ]
     },
     "execution_count": 12,
     "metadata": {},
     "output_type": "execute_result"
    }
   ],
   "source": [
    "X.head(2)"
   ]
  },
  {
   "cell_type": "markdown",
   "id": "8df13d5d",
   "metadata": {},
   "source": [
    "# FOR BREAST CANSER DATASET"
   ]
  },
  {
   "cell_type": "code",
   "execution_count": 13,
   "id": "a52c4fdb",
   "metadata": {},
   "outputs": [],
   "source": [
    "df = pd.read_csv(\"breast-cancer.csv\")"
   ]
  },
  {
   "cell_type": "code",
   "execution_count": 14,
   "id": "8c5cb01a",
   "metadata": {},
   "outputs": [],
   "source": [
    "df.drop(\"Unnamed: 32\", axis =1, inplace=True)"
   ]
  },
  {
   "cell_type": "code",
   "execution_count": 15,
   "id": "f0ddf6f2",
   "metadata": {
    "scrolled": true
   },
   "outputs": [
    {
     "data": {
      "text/html": [
       "<div>\n",
       "<style scoped>\n",
       "    .dataframe tbody tr th:only-of-type {\n",
       "        vertical-align: middle;\n",
       "    }\n",
       "\n",
       "    .dataframe tbody tr th {\n",
       "        vertical-align: top;\n",
       "    }\n",
       "\n",
       "    .dataframe thead th {\n",
       "        text-align: right;\n",
       "    }\n",
       "</style>\n",
       "<table border=\"1\" class=\"dataframe\">\n",
       "  <thead>\n",
       "    <tr style=\"text-align: right;\">\n",
       "      <th></th>\n",
       "      <th>id</th>\n",
       "      <th>diagnosis</th>\n",
       "      <th>radius_mean</th>\n",
       "      <th>texture_mean</th>\n",
       "      <th>perimeter_mean</th>\n",
       "      <th>area_mean</th>\n",
       "      <th>smoothness_mean</th>\n",
       "      <th>compactness_mean</th>\n",
       "      <th>concavity_mean</th>\n",
       "      <th>concave points_mean</th>\n",
       "      <th>...</th>\n",
       "      <th>radius_worst</th>\n",
       "      <th>texture_worst</th>\n",
       "      <th>perimeter_worst</th>\n",
       "      <th>area_worst</th>\n",
       "      <th>smoothness_worst</th>\n",
       "      <th>compactness_worst</th>\n",
       "      <th>concavity_worst</th>\n",
       "      <th>concave points_worst</th>\n",
       "      <th>symmetry_worst</th>\n",
       "      <th>fractal_dimension_worst</th>\n",
       "    </tr>\n",
       "  </thead>\n",
       "  <tbody>\n",
       "    <tr>\n",
       "      <th>0</th>\n",
       "      <td>842302</td>\n",
       "      <td>M</td>\n",
       "      <td>17.99</td>\n",
       "      <td>10.38</td>\n",
       "      <td>122.80</td>\n",
       "      <td>1001.0</td>\n",
       "      <td>0.11840</td>\n",
       "      <td>0.27760</td>\n",
       "      <td>0.3001</td>\n",
       "      <td>0.14710</td>\n",
       "      <td>...</td>\n",
       "      <td>25.38</td>\n",
       "      <td>17.33</td>\n",
       "      <td>184.60</td>\n",
       "      <td>2019.0</td>\n",
       "      <td>0.1622</td>\n",
       "      <td>0.6656</td>\n",
       "      <td>0.7119</td>\n",
       "      <td>0.2654</td>\n",
       "      <td>0.4601</td>\n",
       "      <td>0.11890</td>\n",
       "    </tr>\n",
       "    <tr>\n",
       "      <th>1</th>\n",
       "      <td>842517</td>\n",
       "      <td>M</td>\n",
       "      <td>20.57</td>\n",
       "      <td>17.77</td>\n",
       "      <td>132.90</td>\n",
       "      <td>1326.0</td>\n",
       "      <td>0.08474</td>\n",
       "      <td>0.07864</td>\n",
       "      <td>0.0869</td>\n",
       "      <td>0.07017</td>\n",
       "      <td>...</td>\n",
       "      <td>24.99</td>\n",
       "      <td>23.41</td>\n",
       "      <td>158.80</td>\n",
       "      <td>1956.0</td>\n",
       "      <td>0.1238</td>\n",
       "      <td>0.1866</td>\n",
       "      <td>0.2416</td>\n",
       "      <td>0.1860</td>\n",
       "      <td>0.2750</td>\n",
       "      <td>0.08902</td>\n",
       "    </tr>\n",
       "    <tr>\n",
       "      <th>2</th>\n",
       "      <td>84300903</td>\n",
       "      <td>M</td>\n",
       "      <td>19.69</td>\n",
       "      <td>21.25</td>\n",
       "      <td>130.00</td>\n",
       "      <td>1203.0</td>\n",
       "      <td>0.10960</td>\n",
       "      <td>0.15990</td>\n",
       "      <td>0.1974</td>\n",
       "      <td>0.12790</td>\n",
       "      <td>...</td>\n",
       "      <td>23.57</td>\n",
       "      <td>25.53</td>\n",
       "      <td>152.50</td>\n",
       "      <td>1709.0</td>\n",
       "      <td>0.1444</td>\n",
       "      <td>0.4245</td>\n",
       "      <td>0.4504</td>\n",
       "      <td>0.2430</td>\n",
       "      <td>0.3613</td>\n",
       "      <td>0.08758</td>\n",
       "    </tr>\n",
       "    <tr>\n",
       "      <th>3</th>\n",
       "      <td>84348301</td>\n",
       "      <td>M</td>\n",
       "      <td>11.42</td>\n",
       "      <td>20.38</td>\n",
       "      <td>77.58</td>\n",
       "      <td>386.1</td>\n",
       "      <td>0.14250</td>\n",
       "      <td>0.28390</td>\n",
       "      <td>0.2414</td>\n",
       "      <td>0.10520</td>\n",
       "      <td>...</td>\n",
       "      <td>14.91</td>\n",
       "      <td>26.50</td>\n",
       "      <td>98.87</td>\n",
       "      <td>567.7</td>\n",
       "      <td>0.2098</td>\n",
       "      <td>0.8663</td>\n",
       "      <td>0.6869</td>\n",
       "      <td>0.2575</td>\n",
       "      <td>0.6638</td>\n",
       "      <td>0.17300</td>\n",
       "    </tr>\n",
       "    <tr>\n",
       "      <th>4</th>\n",
       "      <td>84358402</td>\n",
       "      <td>M</td>\n",
       "      <td>20.29</td>\n",
       "      <td>14.34</td>\n",
       "      <td>135.10</td>\n",
       "      <td>1297.0</td>\n",
       "      <td>0.10030</td>\n",
       "      <td>0.13280</td>\n",
       "      <td>0.1980</td>\n",
       "      <td>0.10430</td>\n",
       "      <td>...</td>\n",
       "      <td>22.54</td>\n",
       "      <td>16.67</td>\n",
       "      <td>152.20</td>\n",
       "      <td>1575.0</td>\n",
       "      <td>0.1374</td>\n",
       "      <td>0.2050</td>\n",
       "      <td>0.4000</td>\n",
       "      <td>0.1625</td>\n",
       "      <td>0.2364</td>\n",
       "      <td>0.07678</td>\n",
       "    </tr>\n",
       "  </tbody>\n",
       "</table>\n",
       "<p>5 rows × 32 columns</p>\n",
       "</div>"
      ],
      "text/plain": [
       "         id diagnosis  radius_mean  texture_mean  perimeter_mean  area_mean  \\\n",
       "0    842302         M        17.99         10.38          122.80     1001.0   \n",
       "1    842517         M        20.57         17.77          132.90     1326.0   \n",
       "2  84300903         M        19.69         21.25          130.00     1203.0   \n",
       "3  84348301         M        11.42         20.38           77.58      386.1   \n",
       "4  84358402         M        20.29         14.34          135.10     1297.0   \n",
       "\n",
       "   smoothness_mean  compactness_mean  concavity_mean  concave points_mean  \\\n",
       "0          0.11840           0.27760          0.3001              0.14710   \n",
       "1          0.08474           0.07864          0.0869              0.07017   \n",
       "2          0.10960           0.15990          0.1974              0.12790   \n",
       "3          0.14250           0.28390          0.2414              0.10520   \n",
       "4          0.10030           0.13280          0.1980              0.10430   \n",
       "\n",
       "   ...  radius_worst  texture_worst  perimeter_worst  area_worst  \\\n",
       "0  ...         25.38          17.33           184.60      2019.0   \n",
       "1  ...         24.99          23.41           158.80      1956.0   \n",
       "2  ...         23.57          25.53           152.50      1709.0   \n",
       "3  ...         14.91          26.50            98.87       567.7   \n",
       "4  ...         22.54          16.67           152.20      1575.0   \n",
       "\n",
       "   smoothness_worst  compactness_worst  concavity_worst  concave points_worst  \\\n",
       "0            0.1622             0.6656           0.7119                0.2654   \n",
       "1            0.1238             0.1866           0.2416                0.1860   \n",
       "2            0.1444             0.4245           0.4504                0.2430   \n",
       "3            0.2098             0.8663           0.6869                0.2575   \n",
       "4            0.1374             0.2050           0.4000                0.1625   \n",
       "\n",
       "   symmetry_worst  fractal_dimension_worst  \n",
       "0          0.4601                  0.11890  \n",
       "1          0.2750                  0.08902  \n",
       "2          0.3613                  0.08758  \n",
       "3          0.6638                  0.17300  \n",
       "4          0.2364                  0.07678  \n",
       "\n",
       "[5 rows x 32 columns]"
      ]
     },
     "execution_count": 15,
     "metadata": {},
     "output_type": "execute_result"
    }
   ],
   "source": [
    "df.head()"
   ]
  },
  {
   "cell_type": "code",
   "execution_count": 16,
   "id": "979d86e0",
   "metadata": {},
   "outputs": [
    {
     "name": "stdout",
     "output_type": "stream",
     "text": [
      "<class 'pandas.core.frame.DataFrame'>\n",
      "RangeIndex: 569 entries, 0 to 568\n",
      "Data columns (total 32 columns):\n",
      " #   Column                   Non-Null Count  Dtype  \n",
      "---  ------                   --------------  -----  \n",
      " 0   id                       569 non-null    int64  \n",
      " 1   diagnosis                569 non-null    object \n",
      " 2   radius_mean              569 non-null    float64\n",
      " 3   texture_mean             569 non-null    float64\n",
      " 4   perimeter_mean           569 non-null    float64\n",
      " 5   area_mean                569 non-null    float64\n",
      " 6   smoothness_mean          569 non-null    float64\n",
      " 7   compactness_mean         569 non-null    float64\n",
      " 8   concavity_mean           569 non-null    float64\n",
      " 9   concave points_mean      569 non-null    float64\n",
      " 10  symmetry_mean            569 non-null    float64\n",
      " 11  fractal_dimension_mean   569 non-null    float64\n",
      " 12  radius_se                569 non-null    float64\n",
      " 13  texture_se               569 non-null    float64\n",
      " 14  perimeter_se             569 non-null    float64\n",
      " 15  area_se                  569 non-null    float64\n",
      " 16  smoothness_se            569 non-null    float64\n",
      " 17  compactness_se           569 non-null    float64\n",
      " 18  concavity_se             569 non-null    float64\n",
      " 19  concave points_se        569 non-null    float64\n",
      " 20  symmetry_se              569 non-null    float64\n",
      " 21  fractal_dimension_se     569 non-null    float64\n",
      " 22  radius_worst             569 non-null    float64\n",
      " 23  texture_worst            569 non-null    float64\n",
      " 24  perimeter_worst          569 non-null    float64\n",
      " 25  area_worst               569 non-null    float64\n",
      " 26  smoothness_worst         569 non-null    float64\n",
      " 27  compactness_worst        569 non-null    float64\n",
      " 28  concavity_worst          569 non-null    float64\n",
      " 29  concave points_worst     569 non-null    float64\n",
      " 30  symmetry_worst           569 non-null    float64\n",
      " 31  fractal_dimension_worst  569 non-null    float64\n",
      "dtypes: float64(30), int64(1), object(1)\n",
      "memory usage: 142.4+ KB\n"
     ]
    }
   ],
   "source": [
    "df.info()"
   ]
  },
  {
   "cell_type": "code",
   "execution_count": 17,
   "id": "f17a1536",
   "metadata": {},
   "outputs": [],
   "source": [
    "df = df.drop([\"id\"], axis=1)"
   ]
  },
  {
   "cell_type": "code",
   "execution_count": 18,
   "id": "96f15e91",
   "metadata": {},
   "outputs": [
    {
     "data": {
      "text/html": [
       "<div>\n",
       "<style scoped>\n",
       "    .dataframe tbody tr th:only-of-type {\n",
       "        vertical-align: middle;\n",
       "    }\n",
       "\n",
       "    .dataframe tbody tr th {\n",
       "        vertical-align: top;\n",
       "    }\n",
       "\n",
       "    .dataframe thead th {\n",
       "        text-align: right;\n",
       "    }\n",
       "</style>\n",
       "<table border=\"1\" class=\"dataframe\">\n",
       "  <thead>\n",
       "    <tr style=\"text-align: right;\">\n",
       "      <th></th>\n",
       "      <th>diagnosis</th>\n",
       "      <th>radius_mean</th>\n",
       "      <th>texture_mean</th>\n",
       "      <th>perimeter_mean</th>\n",
       "      <th>area_mean</th>\n",
       "      <th>smoothness_mean</th>\n",
       "      <th>compactness_mean</th>\n",
       "      <th>concavity_mean</th>\n",
       "      <th>concave points_mean</th>\n",
       "      <th>symmetry_mean</th>\n",
       "      <th>...</th>\n",
       "      <th>radius_worst</th>\n",
       "      <th>texture_worst</th>\n",
       "      <th>perimeter_worst</th>\n",
       "      <th>area_worst</th>\n",
       "      <th>smoothness_worst</th>\n",
       "      <th>compactness_worst</th>\n",
       "      <th>concavity_worst</th>\n",
       "      <th>concave points_worst</th>\n",
       "      <th>symmetry_worst</th>\n",
       "      <th>fractal_dimension_worst</th>\n",
       "    </tr>\n",
       "  </thead>\n",
       "  <tbody>\n",
       "    <tr>\n",
       "      <th>0</th>\n",
       "      <td>M</td>\n",
       "      <td>17.99</td>\n",
       "      <td>10.38</td>\n",
       "      <td>122.80</td>\n",
       "      <td>1001.0</td>\n",
       "      <td>0.11840</td>\n",
       "      <td>0.27760</td>\n",
       "      <td>0.3001</td>\n",
       "      <td>0.14710</td>\n",
       "      <td>0.2419</td>\n",
       "      <td>...</td>\n",
       "      <td>25.38</td>\n",
       "      <td>17.33</td>\n",
       "      <td>184.60</td>\n",
       "      <td>2019.0</td>\n",
       "      <td>0.1622</td>\n",
       "      <td>0.6656</td>\n",
       "      <td>0.7119</td>\n",
       "      <td>0.2654</td>\n",
       "      <td>0.4601</td>\n",
       "      <td>0.11890</td>\n",
       "    </tr>\n",
       "    <tr>\n",
       "      <th>1</th>\n",
       "      <td>M</td>\n",
       "      <td>20.57</td>\n",
       "      <td>17.77</td>\n",
       "      <td>132.90</td>\n",
       "      <td>1326.0</td>\n",
       "      <td>0.08474</td>\n",
       "      <td>0.07864</td>\n",
       "      <td>0.0869</td>\n",
       "      <td>0.07017</td>\n",
       "      <td>0.1812</td>\n",
       "      <td>...</td>\n",
       "      <td>24.99</td>\n",
       "      <td>23.41</td>\n",
       "      <td>158.80</td>\n",
       "      <td>1956.0</td>\n",
       "      <td>0.1238</td>\n",
       "      <td>0.1866</td>\n",
       "      <td>0.2416</td>\n",
       "      <td>0.1860</td>\n",
       "      <td>0.2750</td>\n",
       "      <td>0.08902</td>\n",
       "    </tr>\n",
       "    <tr>\n",
       "      <th>2</th>\n",
       "      <td>M</td>\n",
       "      <td>19.69</td>\n",
       "      <td>21.25</td>\n",
       "      <td>130.00</td>\n",
       "      <td>1203.0</td>\n",
       "      <td>0.10960</td>\n",
       "      <td>0.15990</td>\n",
       "      <td>0.1974</td>\n",
       "      <td>0.12790</td>\n",
       "      <td>0.2069</td>\n",
       "      <td>...</td>\n",
       "      <td>23.57</td>\n",
       "      <td>25.53</td>\n",
       "      <td>152.50</td>\n",
       "      <td>1709.0</td>\n",
       "      <td>0.1444</td>\n",
       "      <td>0.4245</td>\n",
       "      <td>0.4504</td>\n",
       "      <td>0.2430</td>\n",
       "      <td>0.3613</td>\n",
       "      <td>0.08758</td>\n",
       "    </tr>\n",
       "    <tr>\n",
       "      <th>3</th>\n",
       "      <td>M</td>\n",
       "      <td>11.42</td>\n",
       "      <td>20.38</td>\n",
       "      <td>77.58</td>\n",
       "      <td>386.1</td>\n",
       "      <td>0.14250</td>\n",
       "      <td>0.28390</td>\n",
       "      <td>0.2414</td>\n",
       "      <td>0.10520</td>\n",
       "      <td>0.2597</td>\n",
       "      <td>...</td>\n",
       "      <td>14.91</td>\n",
       "      <td>26.50</td>\n",
       "      <td>98.87</td>\n",
       "      <td>567.7</td>\n",
       "      <td>0.2098</td>\n",
       "      <td>0.8663</td>\n",
       "      <td>0.6869</td>\n",
       "      <td>0.2575</td>\n",
       "      <td>0.6638</td>\n",
       "      <td>0.17300</td>\n",
       "    </tr>\n",
       "    <tr>\n",
       "      <th>4</th>\n",
       "      <td>M</td>\n",
       "      <td>20.29</td>\n",
       "      <td>14.34</td>\n",
       "      <td>135.10</td>\n",
       "      <td>1297.0</td>\n",
       "      <td>0.10030</td>\n",
       "      <td>0.13280</td>\n",
       "      <td>0.1980</td>\n",
       "      <td>0.10430</td>\n",
       "      <td>0.1809</td>\n",
       "      <td>...</td>\n",
       "      <td>22.54</td>\n",
       "      <td>16.67</td>\n",
       "      <td>152.20</td>\n",
       "      <td>1575.0</td>\n",
       "      <td>0.1374</td>\n",
       "      <td>0.2050</td>\n",
       "      <td>0.4000</td>\n",
       "      <td>0.1625</td>\n",
       "      <td>0.2364</td>\n",
       "      <td>0.07678</td>\n",
       "    </tr>\n",
       "  </tbody>\n",
       "</table>\n",
       "<p>5 rows × 31 columns</p>\n",
       "</div>"
      ],
      "text/plain": [
       "  diagnosis  radius_mean  texture_mean  perimeter_mean  area_mean  \\\n",
       "0         M        17.99         10.38          122.80     1001.0   \n",
       "1         M        20.57         17.77          132.90     1326.0   \n",
       "2         M        19.69         21.25          130.00     1203.0   \n",
       "3         M        11.42         20.38           77.58      386.1   \n",
       "4         M        20.29         14.34          135.10     1297.0   \n",
       "\n",
       "   smoothness_mean  compactness_mean  concavity_mean  concave points_mean  \\\n",
       "0          0.11840           0.27760          0.3001              0.14710   \n",
       "1          0.08474           0.07864          0.0869              0.07017   \n",
       "2          0.10960           0.15990          0.1974              0.12790   \n",
       "3          0.14250           0.28390          0.2414              0.10520   \n",
       "4          0.10030           0.13280          0.1980              0.10430   \n",
       "\n",
       "   symmetry_mean  ...  radius_worst  texture_worst  perimeter_worst  \\\n",
       "0         0.2419  ...         25.38          17.33           184.60   \n",
       "1         0.1812  ...         24.99          23.41           158.80   \n",
       "2         0.2069  ...         23.57          25.53           152.50   \n",
       "3         0.2597  ...         14.91          26.50            98.87   \n",
       "4         0.1809  ...         22.54          16.67           152.20   \n",
       "\n",
       "   area_worst  smoothness_worst  compactness_worst  concavity_worst  \\\n",
       "0      2019.0            0.1622             0.6656           0.7119   \n",
       "1      1956.0            0.1238             0.1866           0.2416   \n",
       "2      1709.0            0.1444             0.4245           0.4504   \n",
       "3       567.7            0.2098             0.8663           0.6869   \n",
       "4      1575.0            0.1374             0.2050           0.4000   \n",
       "\n",
       "   concave points_worst  symmetry_worst  fractal_dimension_worst  \n",
       "0                0.2654          0.4601                  0.11890  \n",
       "1                0.1860          0.2750                  0.08902  \n",
       "2                0.2430          0.3613                  0.08758  \n",
       "3                0.2575          0.6638                  0.17300  \n",
       "4                0.1625          0.2364                  0.07678  \n",
       "\n",
       "[5 rows x 31 columns]"
      ]
     },
     "execution_count": 18,
     "metadata": {},
     "output_type": "execute_result"
    }
   ],
   "source": [
    "df.head()"
   ]
  },
  {
   "cell_type": "code",
   "execution_count": 19,
   "id": "6f20ef33",
   "metadata": {},
   "outputs": [
    {
     "data": {
      "text/html": [
       "<div>\n",
       "<style scoped>\n",
       "    .dataframe tbody tr th:only-of-type {\n",
       "        vertical-align: middle;\n",
       "    }\n",
       "\n",
       "    .dataframe tbody tr th {\n",
       "        vertical-align: top;\n",
       "    }\n",
       "\n",
       "    .dataframe thead th {\n",
       "        text-align: right;\n",
       "    }\n",
       "</style>\n",
       "<table border=\"1\" class=\"dataframe\">\n",
       "  <thead>\n",
       "    <tr style=\"text-align: right;\">\n",
       "      <th></th>\n",
       "      <th>radius_mean</th>\n",
       "      <th>texture_mean</th>\n",
       "      <th>perimeter_mean</th>\n",
       "      <th>area_mean</th>\n",
       "      <th>smoothness_mean</th>\n",
       "      <th>compactness_mean</th>\n",
       "      <th>concavity_mean</th>\n",
       "      <th>concave points_mean</th>\n",
       "      <th>symmetry_mean</th>\n",
       "      <th>fractal_dimension_mean</th>\n",
       "      <th>...</th>\n",
       "      <th>radius_worst</th>\n",
       "      <th>texture_worst</th>\n",
       "      <th>perimeter_worst</th>\n",
       "      <th>area_worst</th>\n",
       "      <th>smoothness_worst</th>\n",
       "      <th>compactness_worst</th>\n",
       "      <th>concavity_worst</th>\n",
       "      <th>concave points_worst</th>\n",
       "      <th>symmetry_worst</th>\n",
       "      <th>fractal_dimension_worst</th>\n",
       "    </tr>\n",
       "  </thead>\n",
       "  <tbody>\n",
       "    <tr>\n",
       "      <th>count</th>\n",
       "      <td>569.000000</td>\n",
       "      <td>569.000000</td>\n",
       "      <td>569.000000</td>\n",
       "      <td>569.000000</td>\n",
       "      <td>569.000000</td>\n",
       "      <td>569.000000</td>\n",
       "      <td>569.000000</td>\n",
       "      <td>569.000000</td>\n",
       "      <td>569.000000</td>\n",
       "      <td>569.000000</td>\n",
       "      <td>...</td>\n",
       "      <td>569.000000</td>\n",
       "      <td>569.000000</td>\n",
       "      <td>569.000000</td>\n",
       "      <td>569.000000</td>\n",
       "      <td>569.000000</td>\n",
       "      <td>569.000000</td>\n",
       "      <td>569.000000</td>\n",
       "      <td>569.000000</td>\n",
       "      <td>569.000000</td>\n",
       "      <td>569.000000</td>\n",
       "    </tr>\n",
       "    <tr>\n",
       "      <th>mean</th>\n",
       "      <td>14.127292</td>\n",
       "      <td>19.289649</td>\n",
       "      <td>91.969033</td>\n",
       "      <td>654.889104</td>\n",
       "      <td>0.096360</td>\n",
       "      <td>0.104341</td>\n",
       "      <td>0.088799</td>\n",
       "      <td>0.048919</td>\n",
       "      <td>0.181162</td>\n",
       "      <td>0.062798</td>\n",
       "      <td>...</td>\n",
       "      <td>16.269190</td>\n",
       "      <td>25.677223</td>\n",
       "      <td>107.261213</td>\n",
       "      <td>880.583128</td>\n",
       "      <td>0.132369</td>\n",
       "      <td>0.254265</td>\n",
       "      <td>0.272188</td>\n",
       "      <td>0.114606</td>\n",
       "      <td>0.290076</td>\n",
       "      <td>0.083946</td>\n",
       "    </tr>\n",
       "    <tr>\n",
       "      <th>std</th>\n",
       "      <td>3.524049</td>\n",
       "      <td>4.301036</td>\n",
       "      <td>24.298981</td>\n",
       "      <td>351.914129</td>\n",
       "      <td>0.014064</td>\n",
       "      <td>0.052813</td>\n",
       "      <td>0.079720</td>\n",
       "      <td>0.038803</td>\n",
       "      <td>0.027414</td>\n",
       "      <td>0.007060</td>\n",
       "      <td>...</td>\n",
       "      <td>4.833242</td>\n",
       "      <td>6.146258</td>\n",
       "      <td>33.602542</td>\n",
       "      <td>569.356993</td>\n",
       "      <td>0.022832</td>\n",
       "      <td>0.157336</td>\n",
       "      <td>0.208624</td>\n",
       "      <td>0.065732</td>\n",
       "      <td>0.061867</td>\n",
       "      <td>0.018061</td>\n",
       "    </tr>\n",
       "    <tr>\n",
       "      <th>min</th>\n",
       "      <td>6.981000</td>\n",
       "      <td>9.710000</td>\n",
       "      <td>43.790000</td>\n",
       "      <td>143.500000</td>\n",
       "      <td>0.052630</td>\n",
       "      <td>0.019380</td>\n",
       "      <td>0.000000</td>\n",
       "      <td>0.000000</td>\n",
       "      <td>0.106000</td>\n",
       "      <td>0.049960</td>\n",
       "      <td>...</td>\n",
       "      <td>7.930000</td>\n",
       "      <td>12.020000</td>\n",
       "      <td>50.410000</td>\n",
       "      <td>185.200000</td>\n",
       "      <td>0.071170</td>\n",
       "      <td>0.027290</td>\n",
       "      <td>0.000000</td>\n",
       "      <td>0.000000</td>\n",
       "      <td>0.156500</td>\n",
       "      <td>0.055040</td>\n",
       "    </tr>\n",
       "    <tr>\n",
       "      <th>25%</th>\n",
       "      <td>11.700000</td>\n",
       "      <td>16.170000</td>\n",
       "      <td>75.170000</td>\n",
       "      <td>420.300000</td>\n",
       "      <td>0.086370</td>\n",
       "      <td>0.064920</td>\n",
       "      <td>0.029560</td>\n",
       "      <td>0.020310</td>\n",
       "      <td>0.161900</td>\n",
       "      <td>0.057700</td>\n",
       "      <td>...</td>\n",
       "      <td>13.010000</td>\n",
       "      <td>21.080000</td>\n",
       "      <td>84.110000</td>\n",
       "      <td>515.300000</td>\n",
       "      <td>0.116600</td>\n",
       "      <td>0.147200</td>\n",
       "      <td>0.114500</td>\n",
       "      <td>0.064930</td>\n",
       "      <td>0.250400</td>\n",
       "      <td>0.071460</td>\n",
       "    </tr>\n",
       "    <tr>\n",
       "      <th>50%</th>\n",
       "      <td>13.370000</td>\n",
       "      <td>18.840000</td>\n",
       "      <td>86.240000</td>\n",
       "      <td>551.100000</td>\n",
       "      <td>0.095870</td>\n",
       "      <td>0.092630</td>\n",
       "      <td>0.061540</td>\n",
       "      <td>0.033500</td>\n",
       "      <td>0.179200</td>\n",
       "      <td>0.061540</td>\n",
       "      <td>...</td>\n",
       "      <td>14.970000</td>\n",
       "      <td>25.410000</td>\n",
       "      <td>97.660000</td>\n",
       "      <td>686.500000</td>\n",
       "      <td>0.131300</td>\n",
       "      <td>0.211900</td>\n",
       "      <td>0.226700</td>\n",
       "      <td>0.099930</td>\n",
       "      <td>0.282200</td>\n",
       "      <td>0.080040</td>\n",
       "    </tr>\n",
       "    <tr>\n",
       "      <th>75%</th>\n",
       "      <td>15.780000</td>\n",
       "      <td>21.800000</td>\n",
       "      <td>104.100000</td>\n",
       "      <td>782.700000</td>\n",
       "      <td>0.105300</td>\n",
       "      <td>0.130400</td>\n",
       "      <td>0.130700</td>\n",
       "      <td>0.074000</td>\n",
       "      <td>0.195700</td>\n",
       "      <td>0.066120</td>\n",
       "      <td>...</td>\n",
       "      <td>18.790000</td>\n",
       "      <td>29.720000</td>\n",
       "      <td>125.400000</td>\n",
       "      <td>1084.000000</td>\n",
       "      <td>0.146000</td>\n",
       "      <td>0.339100</td>\n",
       "      <td>0.382900</td>\n",
       "      <td>0.161400</td>\n",
       "      <td>0.317900</td>\n",
       "      <td>0.092080</td>\n",
       "    </tr>\n",
       "    <tr>\n",
       "      <th>max</th>\n",
       "      <td>28.110000</td>\n",
       "      <td>39.280000</td>\n",
       "      <td>188.500000</td>\n",
       "      <td>2501.000000</td>\n",
       "      <td>0.163400</td>\n",
       "      <td>0.345400</td>\n",
       "      <td>0.426800</td>\n",
       "      <td>0.201200</td>\n",
       "      <td>0.304000</td>\n",
       "      <td>0.097440</td>\n",
       "      <td>...</td>\n",
       "      <td>36.040000</td>\n",
       "      <td>49.540000</td>\n",
       "      <td>251.200000</td>\n",
       "      <td>4254.000000</td>\n",
       "      <td>0.222600</td>\n",
       "      <td>1.058000</td>\n",
       "      <td>1.252000</td>\n",
       "      <td>0.291000</td>\n",
       "      <td>0.663800</td>\n",
       "      <td>0.207500</td>\n",
       "    </tr>\n",
       "  </tbody>\n",
       "</table>\n",
       "<p>8 rows × 30 columns</p>\n",
       "</div>"
      ],
      "text/plain": [
       "       radius_mean  texture_mean  perimeter_mean    area_mean  \\\n",
       "count   569.000000    569.000000      569.000000   569.000000   \n",
       "mean     14.127292     19.289649       91.969033   654.889104   \n",
       "std       3.524049      4.301036       24.298981   351.914129   \n",
       "min       6.981000      9.710000       43.790000   143.500000   \n",
       "25%      11.700000     16.170000       75.170000   420.300000   \n",
       "50%      13.370000     18.840000       86.240000   551.100000   \n",
       "75%      15.780000     21.800000      104.100000   782.700000   \n",
       "max      28.110000     39.280000      188.500000  2501.000000   \n",
       "\n",
       "       smoothness_mean  compactness_mean  concavity_mean  concave points_mean  \\\n",
       "count       569.000000        569.000000      569.000000           569.000000   \n",
       "mean          0.096360          0.104341        0.088799             0.048919   \n",
       "std           0.014064          0.052813        0.079720             0.038803   \n",
       "min           0.052630          0.019380        0.000000             0.000000   \n",
       "25%           0.086370          0.064920        0.029560             0.020310   \n",
       "50%           0.095870          0.092630        0.061540             0.033500   \n",
       "75%           0.105300          0.130400        0.130700             0.074000   \n",
       "max           0.163400          0.345400        0.426800             0.201200   \n",
       "\n",
       "       symmetry_mean  fractal_dimension_mean  ...  radius_worst  \\\n",
       "count     569.000000              569.000000  ...    569.000000   \n",
       "mean        0.181162                0.062798  ...     16.269190   \n",
       "std         0.027414                0.007060  ...      4.833242   \n",
       "min         0.106000                0.049960  ...      7.930000   \n",
       "25%         0.161900                0.057700  ...     13.010000   \n",
       "50%         0.179200                0.061540  ...     14.970000   \n",
       "75%         0.195700                0.066120  ...     18.790000   \n",
       "max         0.304000                0.097440  ...     36.040000   \n",
       "\n",
       "       texture_worst  perimeter_worst   area_worst  smoothness_worst  \\\n",
       "count     569.000000       569.000000   569.000000        569.000000   \n",
       "mean       25.677223       107.261213   880.583128          0.132369   \n",
       "std         6.146258        33.602542   569.356993          0.022832   \n",
       "min        12.020000        50.410000   185.200000          0.071170   \n",
       "25%        21.080000        84.110000   515.300000          0.116600   \n",
       "50%        25.410000        97.660000   686.500000          0.131300   \n",
       "75%        29.720000       125.400000  1084.000000          0.146000   \n",
       "max        49.540000       251.200000  4254.000000          0.222600   \n",
       "\n",
       "       compactness_worst  concavity_worst  concave points_worst  \\\n",
       "count         569.000000       569.000000            569.000000   \n",
       "mean            0.254265         0.272188              0.114606   \n",
       "std             0.157336         0.208624              0.065732   \n",
       "min             0.027290         0.000000              0.000000   \n",
       "25%             0.147200         0.114500              0.064930   \n",
       "50%             0.211900         0.226700              0.099930   \n",
       "75%             0.339100         0.382900              0.161400   \n",
       "max             1.058000         1.252000              0.291000   \n",
       "\n",
       "       symmetry_worst  fractal_dimension_worst  \n",
       "count      569.000000               569.000000  \n",
       "mean         0.290076                 0.083946  \n",
       "std          0.061867                 0.018061  \n",
       "min          0.156500                 0.055040  \n",
       "25%          0.250400                 0.071460  \n",
       "50%          0.282200                 0.080040  \n",
       "75%          0.317900                 0.092080  \n",
       "max          0.663800                 0.207500  \n",
       "\n",
       "[8 rows x 30 columns]"
      ]
     },
     "execution_count": 19,
     "metadata": {},
     "output_type": "execute_result"
    }
   ],
   "source": [
    "df.describe()"
   ]
  },
  {
   "cell_type": "code",
   "execution_count": 20,
   "id": "c67c26a6",
   "metadata": {},
   "outputs": [
    {
     "data": {
      "text/plain": [
       "diagnosis                  0\n",
       "radius_mean                0\n",
       "texture_mean               0\n",
       "perimeter_mean             0\n",
       "area_mean                  0\n",
       "smoothness_mean            0\n",
       "compactness_mean           0\n",
       "concavity_mean             0\n",
       "concave points_mean        0\n",
       "symmetry_mean              0\n",
       "fractal_dimension_mean     0\n",
       "radius_se                  0\n",
       "texture_se                 0\n",
       "perimeter_se               0\n",
       "area_se                    0\n",
       "smoothness_se              0\n",
       "compactness_se             0\n",
       "concavity_se               0\n",
       "concave points_se          0\n",
       "symmetry_se                0\n",
       "fractal_dimension_se       0\n",
       "radius_worst               0\n",
       "texture_worst              0\n",
       "perimeter_worst            0\n",
       "area_worst                 0\n",
       "smoothness_worst           0\n",
       "compactness_worst          0\n",
       "concavity_worst            0\n",
       "concave points_worst       0\n",
       "symmetry_worst             0\n",
       "fractal_dimension_worst    0\n",
       "dtype: int64"
      ]
     },
     "execution_count": 20,
     "metadata": {},
     "output_type": "execute_result"
    }
   ],
   "source": [
    "df.isnull().sum()"
   ]
  },
  {
   "cell_type": "code",
   "execution_count": 21,
   "id": "b20e2002",
   "metadata": {},
   "outputs": [],
   "source": [
    "from sklearn.preprocessing import LabelEncoder\n",
    "\n",
    "encode = LabelEncoder()\n",
    "\n",
    "df[\"diagnosis\"] = encode.fit_transform(df[\"diagnosis\"])"
   ]
  },
  {
   "cell_type": "code",
   "execution_count": 22,
   "id": "89b50460",
   "metadata": {},
   "outputs": [
    {
     "data": {
      "text/html": [
       "<div>\n",
       "<style scoped>\n",
       "    .dataframe tbody tr th:only-of-type {\n",
       "        vertical-align: middle;\n",
       "    }\n",
       "\n",
       "    .dataframe tbody tr th {\n",
       "        vertical-align: top;\n",
       "    }\n",
       "\n",
       "    .dataframe thead th {\n",
       "        text-align: right;\n",
       "    }\n",
       "</style>\n",
       "<table border=\"1\" class=\"dataframe\">\n",
       "  <thead>\n",
       "    <tr style=\"text-align: right;\">\n",
       "      <th></th>\n",
       "      <th>diagnosis</th>\n",
       "      <th>radius_mean</th>\n",
       "      <th>texture_mean</th>\n",
       "      <th>perimeter_mean</th>\n",
       "      <th>area_mean</th>\n",
       "      <th>smoothness_mean</th>\n",
       "      <th>compactness_mean</th>\n",
       "      <th>concavity_mean</th>\n",
       "      <th>concave points_mean</th>\n",
       "      <th>symmetry_mean</th>\n",
       "      <th>...</th>\n",
       "      <th>radius_worst</th>\n",
       "      <th>texture_worst</th>\n",
       "      <th>perimeter_worst</th>\n",
       "      <th>area_worst</th>\n",
       "      <th>smoothness_worst</th>\n",
       "      <th>compactness_worst</th>\n",
       "      <th>concavity_worst</th>\n",
       "      <th>concave points_worst</th>\n",
       "      <th>symmetry_worst</th>\n",
       "      <th>fractal_dimension_worst</th>\n",
       "    </tr>\n",
       "  </thead>\n",
       "  <tbody>\n",
       "    <tr>\n",
       "      <th>0</th>\n",
       "      <td>1</td>\n",
       "      <td>17.99</td>\n",
       "      <td>10.38</td>\n",
       "      <td>122.8</td>\n",
       "      <td>1001.0</td>\n",
       "      <td>0.11840</td>\n",
       "      <td>0.27760</td>\n",
       "      <td>0.3001</td>\n",
       "      <td>0.14710</td>\n",
       "      <td>0.2419</td>\n",
       "      <td>...</td>\n",
       "      <td>25.38</td>\n",
       "      <td>17.33</td>\n",
       "      <td>184.6</td>\n",
       "      <td>2019.0</td>\n",
       "      <td>0.1622</td>\n",
       "      <td>0.6656</td>\n",
       "      <td>0.7119</td>\n",
       "      <td>0.2654</td>\n",
       "      <td>0.4601</td>\n",
       "      <td>0.11890</td>\n",
       "    </tr>\n",
       "    <tr>\n",
       "      <th>1</th>\n",
       "      <td>1</td>\n",
       "      <td>20.57</td>\n",
       "      <td>17.77</td>\n",
       "      <td>132.9</td>\n",
       "      <td>1326.0</td>\n",
       "      <td>0.08474</td>\n",
       "      <td>0.07864</td>\n",
       "      <td>0.0869</td>\n",
       "      <td>0.07017</td>\n",
       "      <td>0.1812</td>\n",
       "      <td>...</td>\n",
       "      <td>24.99</td>\n",
       "      <td>23.41</td>\n",
       "      <td>158.8</td>\n",
       "      <td>1956.0</td>\n",
       "      <td>0.1238</td>\n",
       "      <td>0.1866</td>\n",
       "      <td>0.2416</td>\n",
       "      <td>0.1860</td>\n",
       "      <td>0.2750</td>\n",
       "      <td>0.08902</td>\n",
       "    </tr>\n",
       "  </tbody>\n",
       "</table>\n",
       "<p>2 rows × 31 columns</p>\n",
       "</div>"
      ],
      "text/plain": [
       "   diagnosis  radius_mean  texture_mean  perimeter_mean  area_mean  \\\n",
       "0          1        17.99         10.38           122.8     1001.0   \n",
       "1          1        20.57         17.77           132.9     1326.0   \n",
       "\n",
       "   smoothness_mean  compactness_mean  concavity_mean  concave points_mean  \\\n",
       "0          0.11840           0.27760          0.3001              0.14710   \n",
       "1          0.08474           0.07864          0.0869              0.07017   \n",
       "\n",
       "   symmetry_mean  ...  radius_worst  texture_worst  perimeter_worst  \\\n",
       "0         0.2419  ...         25.38          17.33            184.6   \n",
       "1         0.1812  ...         24.99          23.41            158.8   \n",
       "\n",
       "   area_worst  smoothness_worst  compactness_worst  concavity_worst  \\\n",
       "0      2019.0            0.1622             0.6656           0.7119   \n",
       "1      1956.0            0.1238             0.1866           0.2416   \n",
       "\n",
       "   concave points_worst  symmetry_worst  fractal_dimension_worst  \n",
       "0                0.2654          0.4601                  0.11890  \n",
       "1                0.1860          0.2750                  0.08902  \n",
       "\n",
       "[2 rows x 31 columns]"
      ]
     },
     "execution_count": 22,
     "metadata": {},
     "output_type": "execute_result"
    }
   ],
   "source": [
    "df.head(2)"
   ]
  },
  {
   "cell_type": "code",
   "execution_count": 23,
   "id": "c7cf42bc",
   "metadata": {},
   "outputs": [],
   "source": [
    "scaled_data = scaler.fit_transform(df.iloc[:, 1:])"
   ]
  },
  {
   "cell_type": "code",
   "execution_count": 24,
   "id": "684d30b0",
   "metadata": {},
   "outputs": [],
   "source": [
    "df1 = pd.DataFrame(scaled_data, columns= list(df.columns)[1:])"
   ]
  },
  {
   "cell_type": "code",
   "execution_count": 25,
   "id": "f19b1f2c",
   "metadata": {},
   "outputs": [
    {
     "data": {
      "text/html": [
       "<div>\n",
       "<style scoped>\n",
       "    .dataframe tbody tr th:only-of-type {\n",
       "        vertical-align: middle;\n",
       "    }\n",
       "\n",
       "    .dataframe tbody tr th {\n",
       "        vertical-align: top;\n",
       "    }\n",
       "\n",
       "    .dataframe thead th {\n",
       "        text-align: right;\n",
       "    }\n",
       "</style>\n",
       "<table border=\"1\" class=\"dataframe\">\n",
       "  <thead>\n",
       "    <tr style=\"text-align: right;\">\n",
       "      <th></th>\n",
       "      <th>radius_mean</th>\n",
       "      <th>texture_mean</th>\n",
       "      <th>perimeter_mean</th>\n",
       "      <th>area_mean</th>\n",
       "      <th>smoothness_mean</th>\n",
       "      <th>compactness_mean</th>\n",
       "      <th>concavity_mean</th>\n",
       "      <th>concave points_mean</th>\n",
       "      <th>symmetry_mean</th>\n",
       "      <th>fractal_dimension_mean</th>\n",
       "      <th>...</th>\n",
       "      <th>radius_worst</th>\n",
       "      <th>texture_worst</th>\n",
       "      <th>perimeter_worst</th>\n",
       "      <th>area_worst</th>\n",
       "      <th>smoothness_worst</th>\n",
       "      <th>compactness_worst</th>\n",
       "      <th>concavity_worst</th>\n",
       "      <th>concave points_worst</th>\n",
       "      <th>symmetry_worst</th>\n",
       "      <th>fractal_dimension_worst</th>\n",
       "    </tr>\n",
       "  </thead>\n",
       "  <tbody>\n",
       "    <tr>\n",
       "      <th>0</th>\n",
       "      <td>1.097064</td>\n",
       "      <td>-2.073335</td>\n",
       "      <td>1.269934</td>\n",
       "      <td>0.984375</td>\n",
       "      <td>1.568466</td>\n",
       "      <td>3.283515</td>\n",
       "      <td>2.652874</td>\n",
       "      <td>2.532475</td>\n",
       "      <td>2.217515</td>\n",
       "      <td>2.255747</td>\n",
       "      <td>...</td>\n",
       "      <td>1.886690</td>\n",
       "      <td>-1.359293</td>\n",
       "      <td>2.303601</td>\n",
       "      <td>2.001237</td>\n",
       "      <td>1.307686</td>\n",
       "      <td>2.616665</td>\n",
       "      <td>2.109526</td>\n",
       "      <td>2.296076</td>\n",
       "      <td>2.750622</td>\n",
       "      <td>1.937015</td>\n",
       "    </tr>\n",
       "    <tr>\n",
       "      <th>1</th>\n",
       "      <td>1.829821</td>\n",
       "      <td>-0.353632</td>\n",
       "      <td>1.685955</td>\n",
       "      <td>1.908708</td>\n",
       "      <td>-0.826962</td>\n",
       "      <td>-0.487072</td>\n",
       "      <td>-0.023846</td>\n",
       "      <td>0.548144</td>\n",
       "      <td>0.001392</td>\n",
       "      <td>-0.868652</td>\n",
       "      <td>...</td>\n",
       "      <td>1.805927</td>\n",
       "      <td>-0.369203</td>\n",
       "      <td>1.535126</td>\n",
       "      <td>1.890489</td>\n",
       "      <td>-0.375612</td>\n",
       "      <td>-0.430444</td>\n",
       "      <td>-0.146749</td>\n",
       "      <td>1.087084</td>\n",
       "      <td>-0.243890</td>\n",
       "      <td>0.281190</td>\n",
       "    </tr>\n",
       "  </tbody>\n",
       "</table>\n",
       "<p>2 rows × 30 columns</p>\n",
       "</div>"
      ],
      "text/plain": [
       "   radius_mean  texture_mean  perimeter_mean  area_mean  smoothness_mean  \\\n",
       "0     1.097064     -2.073335        1.269934   0.984375         1.568466   \n",
       "1     1.829821     -0.353632        1.685955   1.908708        -0.826962   \n",
       "\n",
       "   compactness_mean  concavity_mean  concave points_mean  symmetry_mean  \\\n",
       "0          3.283515        2.652874             2.532475       2.217515   \n",
       "1         -0.487072       -0.023846             0.548144       0.001392   \n",
       "\n",
       "   fractal_dimension_mean  ...  radius_worst  texture_worst  perimeter_worst  \\\n",
       "0                2.255747  ...      1.886690      -1.359293         2.303601   \n",
       "1               -0.868652  ...      1.805927      -0.369203         1.535126   \n",
       "\n",
       "   area_worst  smoothness_worst  compactness_worst  concavity_worst  \\\n",
       "0    2.001237          1.307686           2.616665         2.109526   \n",
       "1    1.890489         -0.375612          -0.430444        -0.146749   \n",
       "\n",
       "   concave points_worst  symmetry_worst  fractal_dimension_worst  \n",
       "0              2.296076        2.750622                 1.937015  \n",
       "1              1.087084       -0.243890                 0.281190  \n",
       "\n",
       "[2 rows x 30 columns]"
      ]
     },
     "execution_count": 25,
     "metadata": {},
     "output_type": "execute_result"
    }
   ],
   "source": [
    "df1.head(2)"
   ]
  },
  {
   "cell_type": "code",
   "execution_count": 26,
   "id": "8fc8d298",
   "metadata": {},
   "outputs": [],
   "source": [
    "df1[\"diagnosis\"] = df[\"diagnosis\"]"
   ]
  },
  {
   "cell_type": "code",
   "execution_count": 27,
   "id": "1cedc155",
   "metadata": {
    "scrolled": true
   },
   "outputs": [
    {
     "data": {
      "text/html": [
       "<div>\n",
       "<style scoped>\n",
       "    .dataframe tbody tr th:only-of-type {\n",
       "        vertical-align: middle;\n",
       "    }\n",
       "\n",
       "    .dataframe tbody tr th {\n",
       "        vertical-align: top;\n",
       "    }\n",
       "\n",
       "    .dataframe thead th {\n",
       "        text-align: right;\n",
       "    }\n",
       "</style>\n",
       "<table border=\"1\" class=\"dataframe\">\n",
       "  <thead>\n",
       "    <tr style=\"text-align: right;\">\n",
       "      <th></th>\n",
       "      <th>radius_mean</th>\n",
       "      <th>texture_mean</th>\n",
       "      <th>perimeter_mean</th>\n",
       "      <th>area_mean</th>\n",
       "      <th>smoothness_mean</th>\n",
       "      <th>compactness_mean</th>\n",
       "      <th>concavity_mean</th>\n",
       "      <th>concave points_mean</th>\n",
       "      <th>symmetry_mean</th>\n",
       "      <th>fractal_dimension_mean</th>\n",
       "      <th>...</th>\n",
       "      <th>texture_worst</th>\n",
       "      <th>perimeter_worst</th>\n",
       "      <th>area_worst</th>\n",
       "      <th>smoothness_worst</th>\n",
       "      <th>compactness_worst</th>\n",
       "      <th>concavity_worst</th>\n",
       "      <th>concave points_worst</th>\n",
       "      <th>symmetry_worst</th>\n",
       "      <th>fractal_dimension_worst</th>\n",
       "      <th>diagnosis</th>\n",
       "    </tr>\n",
       "  </thead>\n",
       "  <tbody>\n",
       "    <tr>\n",
       "      <th>0</th>\n",
       "      <td>1.097064</td>\n",
       "      <td>-2.073335</td>\n",
       "      <td>1.269934</td>\n",
       "      <td>0.984375</td>\n",
       "      <td>1.568466</td>\n",
       "      <td>3.283515</td>\n",
       "      <td>2.652874</td>\n",
       "      <td>2.532475</td>\n",
       "      <td>2.217515</td>\n",
       "      <td>2.255747</td>\n",
       "      <td>...</td>\n",
       "      <td>-1.359293</td>\n",
       "      <td>2.303601</td>\n",
       "      <td>2.001237</td>\n",
       "      <td>1.307686</td>\n",
       "      <td>2.616665</td>\n",
       "      <td>2.109526</td>\n",
       "      <td>2.296076</td>\n",
       "      <td>2.750622</td>\n",
       "      <td>1.937015</td>\n",
       "      <td>1</td>\n",
       "    </tr>\n",
       "    <tr>\n",
       "      <th>1</th>\n",
       "      <td>1.829821</td>\n",
       "      <td>-0.353632</td>\n",
       "      <td>1.685955</td>\n",
       "      <td>1.908708</td>\n",
       "      <td>-0.826962</td>\n",
       "      <td>-0.487072</td>\n",
       "      <td>-0.023846</td>\n",
       "      <td>0.548144</td>\n",
       "      <td>0.001392</td>\n",
       "      <td>-0.868652</td>\n",
       "      <td>...</td>\n",
       "      <td>-0.369203</td>\n",
       "      <td>1.535126</td>\n",
       "      <td>1.890489</td>\n",
       "      <td>-0.375612</td>\n",
       "      <td>-0.430444</td>\n",
       "      <td>-0.146749</td>\n",
       "      <td>1.087084</td>\n",
       "      <td>-0.243890</td>\n",
       "      <td>0.281190</td>\n",
       "      <td>1</td>\n",
       "    </tr>\n",
       "  </tbody>\n",
       "</table>\n",
       "<p>2 rows × 31 columns</p>\n",
       "</div>"
      ],
      "text/plain": [
       "   radius_mean  texture_mean  perimeter_mean  area_mean  smoothness_mean  \\\n",
       "0     1.097064     -2.073335        1.269934   0.984375         1.568466   \n",
       "1     1.829821     -0.353632        1.685955   1.908708        -0.826962   \n",
       "\n",
       "   compactness_mean  concavity_mean  concave points_mean  symmetry_mean  \\\n",
       "0          3.283515        2.652874             2.532475       2.217515   \n",
       "1         -0.487072       -0.023846             0.548144       0.001392   \n",
       "\n",
       "   fractal_dimension_mean  ...  texture_worst  perimeter_worst  area_worst  \\\n",
       "0                2.255747  ...      -1.359293         2.303601    2.001237   \n",
       "1               -0.868652  ...      -0.369203         1.535126    1.890489   \n",
       "\n",
       "   smoothness_worst  compactness_worst  concavity_worst  concave points_worst  \\\n",
       "0          1.307686           2.616665         2.109526              2.296076   \n",
       "1         -0.375612          -0.430444        -0.146749              1.087084   \n",
       "\n",
       "   symmetry_worst  fractal_dimension_worst  diagnosis  \n",
       "0        2.750622                 1.937015          1  \n",
       "1       -0.243890                 0.281190          1  \n",
       "\n",
       "[2 rows x 31 columns]"
      ]
     },
     "execution_count": 27,
     "metadata": {},
     "output_type": "execute_result"
    }
   ],
   "source": [
    "df1.head(2)"
   ]
  },
  {
   "cell_type": "code",
   "execution_count": 28,
   "id": "4fc22af1",
   "metadata": {},
   "outputs": [],
   "source": [
    "X_c = df1.drop(\"diagnosis\", axis = 1)\n",
    "Y_c = df1[\"diagnosis\"]"
   ]
  },
  {
   "cell_type": "code",
   "execution_count": 29,
   "id": "8c7dfb37",
   "metadata": {},
   "outputs": [
    {
     "data": {
      "text/html": [
       "<div>\n",
       "<style scoped>\n",
       "    .dataframe tbody tr th:only-of-type {\n",
       "        vertical-align: middle;\n",
       "    }\n",
       "\n",
       "    .dataframe tbody tr th {\n",
       "        vertical-align: top;\n",
       "    }\n",
       "\n",
       "    .dataframe thead th {\n",
       "        text-align: right;\n",
       "    }\n",
       "</style>\n",
       "<table border=\"1\" class=\"dataframe\">\n",
       "  <thead>\n",
       "    <tr style=\"text-align: right;\">\n",
       "      <th></th>\n",
       "      <th>radius_mean</th>\n",
       "      <th>texture_mean</th>\n",
       "      <th>perimeter_mean</th>\n",
       "      <th>area_mean</th>\n",
       "      <th>smoothness_mean</th>\n",
       "      <th>compactness_mean</th>\n",
       "      <th>concavity_mean</th>\n",
       "      <th>concave points_mean</th>\n",
       "      <th>symmetry_mean</th>\n",
       "      <th>fractal_dimension_mean</th>\n",
       "      <th>...</th>\n",
       "      <th>radius_worst</th>\n",
       "      <th>texture_worst</th>\n",
       "      <th>perimeter_worst</th>\n",
       "      <th>area_worst</th>\n",
       "      <th>smoothness_worst</th>\n",
       "      <th>compactness_worst</th>\n",
       "      <th>concavity_worst</th>\n",
       "      <th>concave points_worst</th>\n",
       "      <th>symmetry_worst</th>\n",
       "      <th>fractal_dimension_worst</th>\n",
       "    </tr>\n",
       "  </thead>\n",
       "  <tbody>\n",
       "    <tr>\n",
       "      <th>0</th>\n",
       "      <td>1.097064</td>\n",
       "      <td>-2.073335</td>\n",
       "      <td>1.269934</td>\n",
       "      <td>0.984375</td>\n",
       "      <td>1.568466</td>\n",
       "      <td>3.283515</td>\n",
       "      <td>2.652874</td>\n",
       "      <td>2.532475</td>\n",
       "      <td>2.217515</td>\n",
       "      <td>2.255747</td>\n",
       "      <td>...</td>\n",
       "      <td>1.886690</td>\n",
       "      <td>-1.359293</td>\n",
       "      <td>2.303601</td>\n",
       "      <td>2.001237</td>\n",
       "      <td>1.307686</td>\n",
       "      <td>2.616665</td>\n",
       "      <td>2.109526</td>\n",
       "      <td>2.296076</td>\n",
       "      <td>2.750622</td>\n",
       "      <td>1.937015</td>\n",
       "    </tr>\n",
       "    <tr>\n",
       "      <th>1</th>\n",
       "      <td>1.829821</td>\n",
       "      <td>-0.353632</td>\n",
       "      <td>1.685955</td>\n",
       "      <td>1.908708</td>\n",
       "      <td>-0.826962</td>\n",
       "      <td>-0.487072</td>\n",
       "      <td>-0.023846</td>\n",
       "      <td>0.548144</td>\n",
       "      <td>0.001392</td>\n",
       "      <td>-0.868652</td>\n",
       "      <td>...</td>\n",
       "      <td>1.805927</td>\n",
       "      <td>-0.369203</td>\n",
       "      <td>1.535126</td>\n",
       "      <td>1.890489</td>\n",
       "      <td>-0.375612</td>\n",
       "      <td>-0.430444</td>\n",
       "      <td>-0.146749</td>\n",
       "      <td>1.087084</td>\n",
       "      <td>-0.243890</td>\n",
       "      <td>0.281190</td>\n",
       "    </tr>\n",
       "    <tr>\n",
       "      <th>2</th>\n",
       "      <td>1.579888</td>\n",
       "      <td>0.456187</td>\n",
       "      <td>1.566503</td>\n",
       "      <td>1.558884</td>\n",
       "      <td>0.942210</td>\n",
       "      <td>1.052926</td>\n",
       "      <td>1.363478</td>\n",
       "      <td>2.037231</td>\n",
       "      <td>0.939685</td>\n",
       "      <td>-0.398008</td>\n",
       "      <td>...</td>\n",
       "      <td>1.511870</td>\n",
       "      <td>-0.023974</td>\n",
       "      <td>1.347475</td>\n",
       "      <td>1.456285</td>\n",
       "      <td>0.527407</td>\n",
       "      <td>1.082932</td>\n",
       "      <td>0.854974</td>\n",
       "      <td>1.955000</td>\n",
       "      <td>1.152255</td>\n",
       "      <td>0.201391</td>\n",
       "    </tr>\n",
       "    <tr>\n",
       "      <th>3</th>\n",
       "      <td>-0.768909</td>\n",
       "      <td>0.253732</td>\n",
       "      <td>-0.592687</td>\n",
       "      <td>-0.764464</td>\n",
       "      <td>3.283553</td>\n",
       "      <td>3.402909</td>\n",
       "      <td>1.915897</td>\n",
       "      <td>1.451707</td>\n",
       "      <td>2.867383</td>\n",
       "      <td>4.910919</td>\n",
       "      <td>...</td>\n",
       "      <td>-0.281464</td>\n",
       "      <td>0.133984</td>\n",
       "      <td>-0.249939</td>\n",
       "      <td>-0.550021</td>\n",
       "      <td>3.394275</td>\n",
       "      <td>3.893397</td>\n",
       "      <td>1.989588</td>\n",
       "      <td>2.175786</td>\n",
       "      <td>6.046041</td>\n",
       "      <td>4.935010</td>\n",
       "    </tr>\n",
       "    <tr>\n",
       "      <th>4</th>\n",
       "      <td>1.750297</td>\n",
       "      <td>-1.151816</td>\n",
       "      <td>1.776573</td>\n",
       "      <td>1.826229</td>\n",
       "      <td>0.280372</td>\n",
       "      <td>0.539340</td>\n",
       "      <td>1.371011</td>\n",
       "      <td>1.428493</td>\n",
       "      <td>-0.009560</td>\n",
       "      <td>-0.562450</td>\n",
       "      <td>...</td>\n",
       "      <td>1.298575</td>\n",
       "      <td>-1.466770</td>\n",
       "      <td>1.338539</td>\n",
       "      <td>1.220724</td>\n",
       "      <td>0.220556</td>\n",
       "      <td>-0.313395</td>\n",
       "      <td>0.613179</td>\n",
       "      <td>0.729259</td>\n",
       "      <td>-0.868353</td>\n",
       "      <td>-0.397100</td>\n",
       "    </tr>\n",
       "  </tbody>\n",
       "</table>\n",
       "<p>5 rows × 30 columns</p>\n",
       "</div>"
      ],
      "text/plain": [
       "   radius_mean  texture_mean  perimeter_mean  area_mean  smoothness_mean  \\\n",
       "0     1.097064     -2.073335        1.269934   0.984375         1.568466   \n",
       "1     1.829821     -0.353632        1.685955   1.908708        -0.826962   \n",
       "2     1.579888      0.456187        1.566503   1.558884         0.942210   \n",
       "3    -0.768909      0.253732       -0.592687  -0.764464         3.283553   \n",
       "4     1.750297     -1.151816        1.776573   1.826229         0.280372   \n",
       "\n",
       "   compactness_mean  concavity_mean  concave points_mean  symmetry_mean  \\\n",
       "0          3.283515        2.652874             2.532475       2.217515   \n",
       "1         -0.487072       -0.023846             0.548144       0.001392   \n",
       "2          1.052926        1.363478             2.037231       0.939685   \n",
       "3          3.402909        1.915897             1.451707       2.867383   \n",
       "4          0.539340        1.371011             1.428493      -0.009560   \n",
       "\n",
       "   fractal_dimension_mean  ...  radius_worst  texture_worst  perimeter_worst  \\\n",
       "0                2.255747  ...      1.886690      -1.359293         2.303601   \n",
       "1               -0.868652  ...      1.805927      -0.369203         1.535126   \n",
       "2               -0.398008  ...      1.511870      -0.023974         1.347475   \n",
       "3                4.910919  ...     -0.281464       0.133984        -0.249939   \n",
       "4               -0.562450  ...      1.298575      -1.466770         1.338539   \n",
       "\n",
       "   area_worst  smoothness_worst  compactness_worst  concavity_worst  \\\n",
       "0    2.001237          1.307686           2.616665         2.109526   \n",
       "1    1.890489         -0.375612          -0.430444        -0.146749   \n",
       "2    1.456285          0.527407           1.082932         0.854974   \n",
       "3   -0.550021          3.394275           3.893397         1.989588   \n",
       "4    1.220724          0.220556          -0.313395         0.613179   \n",
       "\n",
       "   concave points_worst  symmetry_worst  fractal_dimension_worst  \n",
       "0              2.296076        2.750622                 1.937015  \n",
       "1              1.087084       -0.243890                 0.281190  \n",
       "2              1.955000        1.152255                 0.201391  \n",
       "3              2.175786        6.046041                 4.935010  \n",
       "4              0.729259       -0.868353                -0.397100  \n",
       "\n",
       "[5 rows x 30 columns]"
      ]
     },
     "execution_count": 29,
     "metadata": {},
     "output_type": "execute_result"
    }
   ],
   "source": [
    "X_c.head()"
   ]
  },
  {
   "cell_type": "code",
   "execution_count": 30,
   "id": "782e7c01",
   "metadata": {},
   "outputs": [
    {
     "data": {
      "text/plain": [
       "0    1\n",
       "1    1\n",
       "2    1\n",
       "3    1\n",
       "4    1\n",
       "Name: diagnosis, dtype: int32"
      ]
     },
     "execution_count": 30,
     "metadata": {},
     "output_type": "execute_result"
    }
   ],
   "source": [
    "Y_c.head()"
   ]
  },
  {
   "cell_type": "markdown",
   "id": "d8d86c29",
   "metadata": {},
   "source": [
    "<style>\n",
    "    .red {\n",
    "          background-color: #0074D9;\n",
    "         }\n",
    "</style>"
   ]
  },
  {
   "cell_type": "markdown",
   "id": "8c45bd18",
   "metadata": {},
   "source": [
    "****\n",
    "# <font color=red>**1.HOLDOUT METHOD**</font>"
   ]
  },
  {
   "cell_type": "code",
   "execution_count": 31,
   "id": "4edf0be6",
   "metadata": {},
   "outputs": [],
   "source": [
    "from sklearn.model_selection import train_test_split"
   ]
  },
  {
   "cell_type": "markdown",
   "id": "2c0f18a2",
   "metadata": {},
   "source": [
    "##### Training set = 75%, Test set = 25%"
   ]
  },
  {
   "cell_type": "code",
   "execution_count": 32,
   "id": "7bd71680",
   "metadata": {},
   "outputs": [],
   "source": [
    "X_train, X_test, Y_train, Y_test = train_test_split(X, Y, test_size=0.25, random_state=0)\n",
    "X_train_c, X_test_c, Y_train_c, Y_test_c = train_test_split(X_c, Y_c, test_size=0.25, random_state=0)"
   ]
  },
  {
   "cell_type": "code",
   "execution_count": 33,
   "id": "e2705c9c",
   "metadata": {},
   "outputs": [
    {
     "name": "stdout",
     "output_type": "stream",
     "text": [
      "For Iris (112, 4)\n",
      "For Breast Cancer (426, 30)\n"
     ]
    }
   ],
   "source": [
    "print(\"For Iris\", X_train.shape)\n",
    "print(\"For Breast Cancer\", X_train_c.shape)"
   ]
  },
  {
   "cell_type": "code",
   "execution_count": 34,
   "id": "4bf6522f",
   "metadata": {},
   "outputs": [
    {
     "name": "stdout",
     "output_type": "stream",
     "text": [
      "For Iris (38, 4)\n",
      "For Breast Cancer (143, 30)\n"
     ]
    }
   ],
   "source": [
    "print(\"For Iris\", X_test.shape)\n",
    "print(\"For Breast Cancer\", X_test_c.shape)"
   ]
  },
  {
   "cell_type": "code",
   "execution_count": 35,
   "id": "5b0298a0",
   "metadata": {},
   "outputs": [
    {
     "name": "stdout",
     "output_type": "stream",
     "text": [
      "For Iris (112,)\n",
      "For Breast Cancer (426,)\n"
     ]
    }
   ],
   "source": [
    "print(\"For Iris\", Y_train.shape)\n",
    "print(\"For Breast Cancer\", Y_train_c.shape)"
   ]
  },
  {
   "cell_type": "code",
   "execution_count": 36,
   "id": "d7bdb838",
   "metadata": {},
   "outputs": [
    {
     "name": "stdout",
     "output_type": "stream",
     "text": [
      "For Iris (38,)\n",
      "For Breast Cancer (143,)\n"
     ]
    }
   ],
   "source": [
    "print(\"For Iris\", Y_test.shape)\n",
    "print(\"For Breast Cancer\", Y_test_c.shape)"
   ]
  },
  {
   "cell_type": "markdown",
   "id": "a5351008",
   "metadata": {},
   "source": [
    "***\n",
    "# <font color=brown>**DECISION TREE (on iris data)**</font>"
   ]
  },
  {
   "cell_type": "code",
   "execution_count": 37,
   "id": "452c4533",
   "metadata": {},
   "outputs": [],
   "source": [
    "from sklearn.tree import DecisionTreeClassifier\n",
    "from sklearn import tree"
   ]
  },
  {
   "cell_type": "code",
   "execution_count": 38,
   "id": "12fd3d81",
   "metadata": {},
   "outputs": [],
   "source": [
    "dec_tree = DecisionTreeClassifier(criterion = \"entropy\")\n",
    "dec_tree.fit(X_train, Y_train)\n",
    "prediction = dec_tree.predict(X_test)"
   ]
  },
  {
   "cell_type": "code",
   "execution_count": 39,
   "id": "7fabed03",
   "metadata": {},
   "outputs": [
    {
     "data": {
      "text/plain": [
       "array([2, 1, 0, 2, 0, 2, 0, 1, 1, 1, 2, 1, 1, 1, 1, 0, 1, 1, 0, 0, 2, 1,\n",
       "       0, 0, 2, 0, 0, 1, 1, 0, 2, 1, 0, 2, 2, 1, 0, 2])"
      ]
     },
     "execution_count": 39,
     "metadata": {},
     "output_type": "execute_result"
    }
   ],
   "source": [
    "prediction"
   ]
  },
  {
   "cell_type": "code",
   "execution_count": 40,
   "id": "070034b9",
   "metadata": {},
   "outputs": [
    {
     "data": {
      "text/plain": [
       "[Text(0.4, 0.9, 'x[3] <= -0.526\\nentropy = 1.581\\nsamples = 112\\nvalue = [37, 34, 41]'),\n",
       " Text(0.3, 0.7, 'entropy = 0.0\\nsamples = 37\\nvalue = [37, 0, 0]'),\n",
       " Text(0.5, 0.7, 'x[2] <= 0.678\\nentropy = 0.994\\nsamples = 75\\nvalue = [0, 34, 41]'),\n",
       " Text(0.2, 0.5, 'x[3] <= 0.593\\nentropy = 0.414\\nsamples = 36\\nvalue = [0, 33, 3]'),\n",
       " Text(0.1, 0.3, 'entropy = 0.0\\nsamples = 32\\nvalue = [0, 32, 0]'),\n",
       " Text(0.3, 0.3, 'x[1] <= 0.098\\nentropy = 0.811\\nsamples = 4\\nvalue = [0, 1, 3]'),\n",
       " Text(0.2, 0.1, 'entropy = 0.0\\nsamples = 3\\nvalue = [0, 0, 3]'),\n",
       " Text(0.4, 0.1, 'entropy = 0.0\\nsamples = 1\\nvalue = [0, 1, 0]'),\n",
       " Text(0.8, 0.5, 'x[3] <= 0.725\\nentropy = 0.172\\nsamples = 39\\nvalue = [0, 1, 38]'),\n",
       " Text(0.7, 0.3, 'x[3] <= 0.593\\nentropy = 0.811\\nsamples = 4\\nvalue = [0, 1, 3]'),\n",
       " Text(0.6, 0.1, 'entropy = 0.0\\nsamples = 3\\nvalue = [0, 0, 3]'),\n",
       " Text(0.8, 0.1, 'entropy = 0.0\\nsamples = 1\\nvalue = [0, 1, 0]'),\n",
       " Text(0.9, 0.3, 'entropy = 0.0\\nsamples = 35\\nvalue = [0, 0, 35]')]"
      ]
     },
     "execution_count": 40,
     "metadata": {},
     "output_type": "execute_result"
    },
    {
     "data": {
      "image/png": "[encoded data removed]",
      "text/plain": [
       "<Figure size 640x480 with 1 Axes>"
      ]
     },
     "metadata": {},
     "output_type": "display_data"
    }
   ],
   "source": [
    "tree.plot_tree(dec_tree)"
   ]
  },
  {
   "cell_type": "code",
   "execution_count": 41,
   "id": "e2ed1f8a",
   "metadata": {},
   "outputs": [],
   "source": [
    "from matplotlib import pyplot as plt \n",
    "from sklearn import metrics"
   ]
  },
  {
   "cell_type": "code",
   "execution_count": 42,
   "id": "bdd9c6e8",
   "metadata": {
    "scrolled": true
   },
   "outputs": [
    {
     "data": {
      "image/png": "[encoded data removed]",
      "text/plain": [
       "<Figure size 1200x1200 with 1 Axes>"
      ]
     },
     "metadata": {},
     "output_type": "display_data"
    }
   ],
   "source": [
    "fn = iris.feature_names\n",
    "cn = ['setosa', 'versicolor', 'virginica']\n",
    "fig, axes = plt.subplots(nrows=1, ncols=1, figsize=(4,4), dpi=300)\n",
    "tree.plot_tree(dec_tree,\n",
    "              feature_names=fn,\n",
    "              class_names = cn,\n",
    "               filled=True);"
   ]
  },
  {
   "cell_type": "code",
   "execution_count": 43,
   "id": "1a551cbb",
   "metadata": {},
   "outputs": [
    {
     "data": {
      "text/plain": [
       "<sklearn.metrics._plot.confusion_matrix.ConfusionMatrixDisplay at 0x1f89b993b90>"
      ]
     },
     "execution_count": 43,
     "metadata": {},
     "output_type": "execute_result"
    },
    {
     "data": {
      "image/png": "[encoded data removed]",
      "text/plain": [
       "<Figure size 640x480 with 2 Axes>"
      ]
     },
     "metadata": {},
     "output_type": "display_data"
    }
   ],
   "source": [
    "from sklearn import metrics\n",
    "from sklearn.metrics import ConfusionMatrixDisplay\n",
    "\n",
    "ConfusionMatrixDisplay.from_estimator(dec_tree, X_test, Y_test)"
   ]
  },
  {
   "cell_type": "code",
   "execution_count": 44,
   "id": "338e9807",
   "metadata": {},
   "outputs": [
    {
     "name": "stdout",
     "output_type": "stream",
     "text": [
      "Accuracy on the test data  97.36842105263158\n",
      "\n",
      "Classification report on the test data                precision    recall  f1-score   support\n",
      "\n",
      "           0       1.00      1.00      1.00        13\n",
      "           1       1.00      0.94      0.97        16\n",
      "           2       0.90      1.00      0.95         9\n",
      "\n",
      "    accuracy                           0.97        38\n",
      "   macro avg       0.97      0.98      0.97        38\n",
      "weighted avg       0.98      0.97      0.97        38\n",
      "\n"
     ]
    }
   ],
   "source": [
    "acc_hold_iris1 = metrics.accuracy_score(Y_test, prediction)*100\n",
    "print(\"Accuracy on the test data \", acc_hold_iris1)\n",
    "print(\"\\nClassification report on the test data \", metrics.classification_report(Y_test, prediction))"
   ]
  },
  {
   "cell_type": "markdown",
   "id": "bfc6f556",
   "metadata": {},
   "source": [
    "***\n",
    "# <font color=brown>**DECISION TREE (on Breast cancer data)**</font>"
   ]
  },
  {
   "cell_type": "code",
   "execution_count": 45,
   "id": "7faaafcc",
   "metadata": {},
   "outputs": [],
   "source": [
    "dec_tree1 = DecisionTreeClassifier(criterion = \"entropy\")\n",
    "dec_tree1.fit(X_train_c, Y_train_c)\n",
    "prediction1 = dec_tree1.predict(X_test_c)"
   ]
  },
  {
   "cell_type": "code",
   "execution_count": 46,
   "id": "016c3f75",
   "metadata": {},
   "outputs": [
    {
     "data": {
      "text/plain": [
       "array([1, 0, 0, 0, 0, 0, 0, 0, 0, 0, 1, 0, 0, 1, 1, 1, 0, 1, 1, 1, 1, 1,\n",
       "       0, 0, 1, 0, 0, 1, 0, 1, 0, 1, 0, 1, 0, 1, 0, 1, 0, 1, 1, 0, 1, 0,\n",
       "       0, 1, 0, 0, 0, 1, 1, 1, 1, 0, 0, 0, 0, 0, 0, 1, 1, 1, 0, 0, 1, 0,\n",
       "       1, 1, 1, 0, 0, 1, 0, 0, 1, 0, 0, 1, 0, 0, 1, 1, 1, 0, 1, 0, 0, 0,\n",
       "       1, 1, 0, 0, 0, 1, 0, 0, 1, 0, 0, 0, 0, 0, 0, 0, 1, 0, 1, 0, 1, 1,\n",
       "       0, 1, 1, 0, 0, 0, 0, 0, 0, 0, 0, 0, 1, 0, 1, 0, 0, 0, 0, 0, 1, 0,\n",
       "       0, 1, 0, 0, 0, 1, 1, 0, 0, 0, 1])"
      ]
     },
     "execution_count": 46,
     "metadata": {},
     "output_type": "execute_result"
    }
   ],
   "source": [
    "prediction1"
   ]
  },
  {
   "cell_type": "code",
   "execution_count": 47,
   "id": "96c4a1cd",
   "metadata": {},
   "outputs": [
    {
     "data": {
      "text/plain": [
       "[Text(0.5625, 0.9375, 'x[7] <= 0.0\\nentropy = 0.953\\nsamples = 426\\nvalue = [267, 159]'),\n",
       " Text(0.325, 0.8125, 'x[20] <= 0.115\\nentropy = 0.286\\nsamples = 260\\nvalue = [247, 13]'),\n",
       " Text(0.2, 0.6875, 'x[13] <= 0.132\\nentropy = 0.143\\nsamples = 246\\nvalue = [241, 5]'),\n",
       " Text(0.1, 0.5625, 'x[21] <= 0.728\\nentropy = 0.096\\nsamples = 243\\nvalue = [240, 3]'),\n",
       " Text(0.05, 0.4375, 'entropy = 0.0\\nsamples = 212\\nvalue = [212, 0]'),\n",
       " Text(0.15, 0.4375, 'x[20] <= -0.381\\nentropy = 0.459\\nsamples = 31\\nvalue = [28, 3]'),\n",
       " Text(0.1, 0.3125, 'entropy = 0.0\\nsamples = 22\\nvalue = [22, 0]'),\n",
       " Text(0.2, 0.3125, 'x[2] <= -0.235\\nentropy = 0.918\\nsamples = 9\\nvalue = [6, 3]'),\n",
       " Text(0.15, 0.1875, 'x[17] <= -0.935\\nentropy = 0.811\\nsamples = 4\\nvalue = [1, 3]'),\n",
       " Text(0.1, 0.0625, 'entropy = 0.0\\nsamples = 1\\nvalue = [1, 0]'),\n",
       " Text(0.2, 0.0625, 'entropy = 0.0\\nsamples = 3\\nvalue = [0, 3]'),\n",
       " Text(0.25, 0.1875, 'entropy = 0.0\\nsamples = 5\\nvalue = [5, 0]'),\n",
       " Text(0.3, 0.5625, 'x[5] <= -0.792\\nentropy = 0.918\\nsamples = 3\\nvalue = [1, 2]'),\n",
       " Text(0.25, 0.4375, 'entropy = 0.0\\nsamples = 2\\nvalue = [0, 2]'),\n",
       " Text(0.35, 0.4375, 'entropy = 0.0\\nsamples = 1\\nvalue = [1, 0]'),\n",
       " Text(0.45, 0.6875, 'x[21] <= 0.053\\nentropy = 0.985\\nsamples = 14\\nvalue = [6, 8]'),\n",
       " Text(0.4, 0.5625, 'entropy = 0.0\\nsamples = 6\\nvalue = [6, 0]'),\n",
       " Text(0.5, 0.5625, 'entropy = 0.0\\nsamples = 8\\nvalue = [0, 8]'),\n",
       " Text(0.8, 0.8125, 'x[22] <= 0.214\\nentropy = 0.531\\nsamples = 166\\nvalue = [20, 146]'),\n",
       " Text(0.75, 0.6875, 'x[21] <= -0.315\\nentropy = 0.991\\nsamples = 45\\nvalue = [20, 25]'),\n",
       " Text(0.6, 0.5625, 'x[20] <= -0.012\\nentropy = 0.61\\nsamples = 20\\nvalue = [17, 3]'),\n",
       " Text(0.55, 0.4375, 'entropy = 0.0\\nsamples = 14\\nvalue = [14, 0]'),\n",
       " Text(0.65, 0.4375, 'x[23] <= -0.07\\nentropy = 1.0\\nsamples = 6\\nvalue = [3, 3]'),\n",
       " Text(0.6, 0.3125, 'entropy = 0.0\\nsamples = 3\\nvalue = [0, 3]'),\n",
       " Text(0.7, 0.3125, 'entropy = 0.0\\nsamples = 3\\nvalue = [3, 0]'),\n",
       " Text(0.9, 0.5625, 'x[28] <= -0.354\\nentropy = 0.529\\nsamples = 25\\nvalue = [3, 22]'),\n",
       " Text(0.85, 0.4375, 'x[6] <= 0.258\\nentropy = 0.811\\nsamples = 4\\nvalue = [3, 1]'),\n",
       " Text(0.8, 0.3125, 'entropy = 0.0\\nsamples = 3\\nvalue = [3, 0]'),\n",
       " Text(0.9, 0.3125, 'entropy = 0.0\\nsamples = 1\\nvalue = [0, 1]'),\n",
       " Text(0.95, 0.4375, 'entropy = 0.0\\nsamples = 21\\nvalue = [0, 21]'),\n",
       " Text(0.85, 0.6875, 'entropy = 0.0\\nsamples = 121\\nvalue = [0, 121]')]"
      ]
     },
     "execution_count": 47,
     "metadata": {},
     "output_type": "execute_result"
    },
    {
     "data": {
      "image/png": "[encoded data removed]",
      "text/plain": [
       "<Figure size 640x480 with 1 Axes>"
      ]
     },
     "metadata": {},
     "output_type": "display_data"
    }
   ],
   "source": [
    "tree.plot_tree(dec_tree1)"
   ]
  },
  {
   "cell_type": "code",
   "execution_count": 48,
   "id": "b7bea27f",
   "metadata": {},
   "outputs": [
    {
     "data": {
      "image/png": "[encoded data removed]",
      "text/plain": [
       "<Figure size 1800x1800 with 1 Axes>"
      ]
     },
     "metadata": {},
     "output_type": "display_data"
    }
   ],
   "source": [
    "fn1 = list(df1.columns[:-1])\n",
    "cn1 = ['malignant', 'benign']\n",
    "fig, axes = plt.subplots(nrows=1, ncols=1, figsize=(6,6), dpi=300)\n",
    "tree.plot_tree(dec_tree1,\n",
    "              feature_names=fn1,\n",
    "              class_names = cn1,\n",
    "               filled=True);"
   ]
  },
  {
   "cell_type": "code",
   "execution_count": 49,
   "id": "c3921e21",
   "metadata": {},
   "outputs": [
    {
     "data": {
      "text/plain": [
       "<sklearn.metrics._plot.confusion_matrix.ConfusionMatrixDisplay at 0x1f8a19ca250>"
      ]
     },
     "execution_count": 49,
     "metadata": {},
     "output_type": "execute_result"
    },
    {
     "data": {
      "image/png": "[encoded data removed]",
      "text/plain": [
       "<Figure size 640x480 with 2 Axes>"
      ]
     },
     "metadata": {},
     "output_type": "display_data"
    }
   ],
   "source": [
    "ConfusionMatrixDisplay.from_estimator(dec_tree1, X_test_c, Y_test_c)"
   ]
  },
  {
   "cell_type": "code",
   "execution_count": 50,
   "id": "f58b500a",
   "metadata": {},
   "outputs": [
    {
     "name": "stdout",
     "output_type": "stream",
     "text": [
      "Accuracy on the test data  95.1048951048951\n",
      "\n",
      "Classification report on the test data                precision    recall  f1-score   support\n",
      "\n",
      "           0       0.98      0.94      0.96        90\n",
      "           1       0.91      0.96      0.94        53\n",
      "\n",
      "    accuracy                           0.95       143\n",
      "   macro avg       0.94      0.95      0.95       143\n",
      "weighted avg       0.95      0.95      0.95       143\n",
      "\n"
     ]
    }
   ],
   "source": [
    "acc_hold_breast1 = metrics.accuracy_score(Y_test_c, prediction1)*100\n",
    "print(\"Accuracy on the test data \", acc_hold_breast1)\n",
    "print(\"\\nClassification report on the test data \", metrics.classification_report(Y_test_c, prediction1))"
   ]
  },
  {
   "cell_type": "markdown",
   "id": "4446b74f",
   "metadata": {},
   "source": [
    "***\n",
    "# <font color=green>**KNN (on iris data)**</font>"
   ]
  },
  {
   "cell_type": "code",
   "execution_count": 51,
   "id": "27706c3c",
   "metadata": {},
   "outputs": [],
   "source": [
    "from sklearn.neighbors import KNeighborsClassifier"
   ]
  },
  {
   "cell_type": "code",
   "execution_count": 52,
   "id": "9168c2d4",
   "metadata": {},
   "outputs": [],
   "source": [
    "knn = KNeighborsClassifier()\n",
    "knn.fit(X_train, Y_train)\n",
    "prediction2 = knn.predict(X_test)"
   ]
  },
  {
   "cell_type": "code",
   "execution_count": 53,
   "id": "e0f6e524",
   "metadata": {},
   "outputs": [
    {
     "data": {
      "text/plain": [
       "array([2, 1, 0, 2, 0, 2, 0, 1, 1, 1, 2, 1, 1, 1, 1, 0, 1, 1, 0, 0, 2, 1,\n",
       "       0, 0, 2, 0, 0, 1, 1, 0, 2, 1, 0, 2, 2, 1, 0, 2])"
      ]
     },
     "execution_count": 53,
     "metadata": {},
     "output_type": "execute_result"
    }
   ],
   "source": [
    "prediction2"
   ]
  },
  {
   "cell_type": "code",
   "execution_count": 54,
   "id": "17568025",
   "metadata": {},
   "outputs": [
    {
     "data": {
      "text/plain": [
       "<sklearn.metrics._plot.confusion_matrix.ConfusionMatrixDisplay at 0x1f8a2321710>"
      ]
     },
     "execution_count": 54,
     "metadata": {},
     "output_type": "execute_result"
    },
    {
     "data": {
      "image/png": "[encoded data removed]",
      "text/plain": [
       "<Figure size 640x480 with 2 Axes>"
      ]
     },
     "metadata": {},
     "output_type": "display_data"
    }
   ],
   "source": [
    "ConfusionMatrixDisplay.from_estimator(knn,X_test, Y_test)"
   ]
  },
  {
   "cell_type": "code",
   "execution_count": 55,
   "id": "64885095",
   "metadata": {},
   "outputs": [
    {
     "name": "stdout",
     "output_type": "stream",
     "text": [
      "Accuracy on the test data  97.36842105263158\n",
      "\n",
      "Classification report on the test data                precision    recall  f1-score   support\n",
      "\n",
      "           0       1.00      1.00      1.00        13\n",
      "           1       1.00      0.94      0.97        16\n",
      "           2       0.90      1.00      0.95         9\n",
      "\n",
      "    accuracy                           0.97        38\n",
      "   macro avg       0.97      0.98      0.97        38\n",
      "weighted avg       0.98      0.97      0.97        38\n",
      "\n"
     ]
    }
   ],
   "source": [
    "acc_hold_iris_knn = metrics.accuracy_score(Y_test, prediction2)*100\n",
    "print(\"Accuracy on the test data \", acc_hold_iris_knn)\n",
    "print(\"\\nClassification report on the test data \", metrics.classification_report(Y_test, prediction2))"
   ]
  },
  {
   "cell_type": "markdown",
   "id": "0d56b3b0",
   "metadata": {},
   "source": [
    "***\n",
    "# <font color=green>**KNN (on Breast Cancer data)**</font>"
   ]
  },
  {
   "cell_type": "code",
   "execution_count": 56,
   "id": "f07a64fa",
   "metadata": {},
   "outputs": [],
   "source": [
    "knn1 = KNeighborsClassifier()\n",
    "knn1.fit(X_train_c, Y_train_c)\n",
    "prediction_c = knn1.predict(X_test_c)"
   ]
  },
  {
   "cell_type": "code",
   "execution_count": 57,
   "id": "917b4b55",
   "metadata": {},
   "outputs": [
    {
     "data": {
      "text/plain": [
       "array([1, 0, 0, 0, 0, 0, 0, 0, 0, 0, 0, 0, 0, 0, 0, 1, 0, 1, 1, 1, 1, 1,\n",
       "       0, 0, 1, 0, 0, 1, 0, 1, 0, 1, 0, 1, 0, 1, 0, 1, 0, 1, 0, 0, 1, 0,\n",
       "       0, 1, 0, 0, 0, 1, 1, 1, 1, 0, 0, 0, 0, 0, 0, 1, 1, 1, 0, 0, 1, 0,\n",
       "       1, 1, 1, 0, 0, 1, 0, 0, 1, 0, 0, 0, 0, 0, 1, 1, 1, 0, 1, 0, 0, 0,\n",
       "       1, 1, 0, 0, 0, 1, 0, 0, 1, 0, 0, 0, 0, 0, 0, 0, 1, 0, 1, 0, 0, 0,\n",
       "       0, 1, 1, 0, 0, 0, 0, 0, 0, 0, 0, 0, 1, 0, 1, 0, 0, 0, 0, 0, 1, 0,\n",
       "       0, 1, 0, 0, 0, 0, 1, 0, 0, 0, 1])"
      ]
     },
     "execution_count": 57,
     "metadata": {},
     "output_type": "execute_result"
    }
   ],
   "source": [
    "prediction_c"
   ]
  },
  {
   "cell_type": "code",
   "execution_count": 58,
   "id": "d4803dbc",
   "metadata": {},
   "outputs": [
    {
     "data": {
      "text/plain": [
       "<sklearn.metrics._plot.confusion_matrix.ConfusionMatrixDisplay at 0x1f8a23affd0>"
      ]
     },
     "execution_count": 58,
     "metadata": {},
     "output_type": "execute_result"
    },
    {
     "data": {
      "image/png": "[encoded data removed]",
      "text/plain": [
       "<Figure size 640x480 with 2 Axes>"
      ]
     },
     "metadata": {},
     "output_type": "display_data"
    }
   ],
   "source": [
    "ConfusionMatrixDisplay.from_estimator(knn1,X_test_c, Y_test_c)"
   ]
  },
  {
   "cell_type": "code",
   "execution_count": 59,
   "id": "591ce111",
   "metadata": {},
   "outputs": [
    {
     "ename": "NameError",
     "evalue": "name 'acc_hold_breat_knn' is not defined",
     "output_type": "error",
     "traceback": [
      "\u001b[1;31m---------------------------------------------------------------------------\u001b[0m",
      "\u001b[1;31mNameError\u001b[0m                                 Traceback (most recent call last)",
      "Cell \u001b[1;32mIn[59], line 2\u001b[0m\n\u001b[0;32m      1\u001b[0m acc_hold_breast_knn \u001b[38;5;241m=\u001b[39m metrics\u001b[38;5;241m.\u001b[39maccuracy_score(Y_test_c, prediction_c)\u001b[38;5;241m*\u001b[39m\u001b[38;5;241m100\u001b[39m\n\u001b[1;32m----> 2\u001b[0m \u001b[38;5;28mprint\u001b[39m(\u001b[38;5;124m\"\u001b[39m\u001b[38;5;124mAccuracy on the test data \u001b[39m\u001b[38;5;124m\"\u001b[39m, acc_hold_breat_knn)\n\u001b[0;32m      3\u001b[0m \u001b[38;5;28mprint\u001b[39m(\u001b[38;5;124m\"\u001b[39m\u001b[38;5;130;01m\\n\u001b[39;00m\u001b[38;5;124mClassification report on the test data \u001b[39m\u001b[38;5;124m\"\u001b[39m, metrics\u001b[38;5;241m.\u001b[39mclassification_report(Y_test_c, prediction_c))\n",
      "\u001b[1;31mNameError\u001b[0m: name 'acc_hold_breat_knn' is not defined"
     ]
    }
   ],
   "source": [
    "acc_hold_breast_knn = metrics.accuracy_score(Y_test_c, prediction_c)*100\n",
    "print(\"Accuracy on the test data \", acc_hold_breat_knn)\n",
    "print(\"\\nClassification report on the test data \", metrics.classification_report(Y_test_c, prediction_c))"
   ]
  },
  {
   "cell_type": "markdown",
   "id": "e7264cd6",
   "metadata": {},
   "source": [
    "***\n",
    "# <font color=orage>**NAIVE BAYES(on iris data)**</font>"
   ]
  },
  {
   "cell_type": "code",
   "execution_count": null,
   "id": "4dcd73e5",
   "metadata": {},
   "outputs": [],
   "source": [
    "from sklearn.naive_bayes import GaussianNB\n",
    "\n",
    "nb = GaussianNB()\n",
    "nb.fit(X_train, Y_train)\n",
    "prediction_nb = nb.predict(X_test)"
   ]
  },
  {
   "cell_type": "code",
   "execution_count": null,
   "id": "c00b4baf",
   "metadata": {},
   "outputs": [],
   "source": [
    "ConfusionMatrixDisplay.from_estimator(nb,X_test, Y_test)"
   ]
  },
  {
   "cell_type": "code",
   "execution_count": null,
   "id": "9e5106e7",
   "metadata": {},
   "outputs": [],
   "source": [
    "print(\"Accuracy on the test data \")\n",
    "acc_hold_iris_nb = metrics.accuracy_score(Y_test, prediction_nb)*100\n",
    "\n",
    "print(f\"Naive-bayes accuracy: {acc_hold_iris_nb}%\")\n",
    "print(\"\\nClassification report on the test data \", metrics.classification_report(Y_test, prediction_nb))"
   ]
  },
  {
   "cell_type": "markdown",
   "id": "c00b200f",
   "metadata": {},
   "source": [
    "***\n",
    "# <font color=orage>**NAIVE BAYES(on Breast cancer data)**</font>"
   ]
  },
  {
   "cell_type": "code",
   "execution_count": null,
   "id": "3a693d00",
   "metadata": {},
   "outputs": [],
   "source": [
    "nb_c = GaussianNB()\n",
    "nb_c.fit(X_train_c, Y_train_c)\n",
    "prediction_nbc = nb_c.predict(X_test_c)"
   ]
  },
  {
   "cell_type": "code",
   "execution_count": null,
   "id": "9e6475de",
   "metadata": {},
   "outputs": [],
   "source": [
    "ConfusionMatrixDisplay.from_estimator(nb_c,X_test_c, Y_test_c)"
   ]
  },
  {
   "cell_type": "code",
   "execution_count": null,
   "id": "a43e855a",
   "metadata": {},
   "outputs": [],
   "source": [
    "print(\"Accuracy on the test data \")\n",
    "acc_hold_breast_nb = metrics.accuracy_score(Y_test_c, prediction_nbc)*100\n",
    "\n",
    "print(f\"Naive-bayes accuracy: {acc_hold_breast_nb}%\")\n",
    "print(\"\\nClassification report on the test data \", metrics.classification_report(Y_test_c, prediction_nbc))"
   ]
  },
  {
   "cell_type": "markdown",
   "id": "2dc16ea7",
   "metadata": {},
   "source": [
    "****\n",
    "# <font color=red>**2. RANDOM SUBSAMPLING**</font>"
   ]
  },
  {
   "cell_type": "markdown",
   "id": "c7ae3b3d",
   "metadata": {},
   "source": [
    "***\n",
    "# <font color=brown>**DECISION TREE (on iris data)**</font>"
   ]
  },
  {
   "cell_type": "code",
   "execution_count": null,
   "id": "4fc6a87e",
   "metadata": {},
   "outputs": [],
   "source": [
    "acc = []\n",
    "dec_tree = DecisionTreeClassifier(criterion = \"entropy\")\n",
    "\n",
    "for i in range(10):\n",
    "    X_train, X_test, Y_train, Y_test = train_test_split(X, Y, test_size=0.25, random_state=i+1)\n",
    "    dec_tree.fit(X_train, Y_train)\n",
    "    prediction = dec_tree.predict(X_test)\n",
    "    acc.append(metrics.accuracy_score(Y_test, prediction))\n",
    "    \n",
    "acc = sum(acc)/len(acc) "
   ]
  },
  {
   "cell_type": "code",
   "execution_count": null,
   "id": "d630198b",
   "metadata": {},
   "outputs": [],
   "source": [
    "acc_rs_iris_dt = acc*100\n",
    "print(\"Acuuracy on the test data\", acc_rs_iris_dt, \"%\")"
   ]
  },
  {
   "cell_type": "markdown",
   "id": "ad2afb57",
   "metadata": {},
   "source": [
    "***\n",
    "# <font color=brown>**DECISION TREE (on Breast cancer data)**</font>"
   ]
  },
  {
   "cell_type": "code",
   "execution_count": null,
   "id": "07747fd9",
   "metadata": {},
   "outputs": [],
   "source": [
    "acc = []\n",
    "dec_tree_c = DecisionTreeClassifier(criterion = \"entropy\")\n",
    "\n",
    "for i in range(10):\n",
    "    X_train_c, X_test_c, Y_train_c, Y_test_c = train_test_split(X_c, Y_c, test_size=0.25, random_state=i+1)\n",
    "    dec_tree_c.fit(X_train_c, Y_train_c)\n",
    "    prediction_c = dec_tree_c.predict(X_test_c)\n",
    "    acc.append(metrics.accuracy_score(Y_test_c, prediction_c))\n",
    "    \n",
    "acc = sum(acc)/len(acc) "
   ]
  },
  {
   "cell_type": "code",
   "execution_count": null,
   "id": "e0636d87",
   "metadata": {},
   "outputs": [],
   "source": [
    "acc_rs_breast_dt = acc*100\n",
    "print(\"Acuuracy on the test data\", acc_rs_iris_dt, \"%\")"
   ]
  },
  {
   "cell_type": "markdown",
   "id": "7a9d34c5",
   "metadata": {},
   "source": [
    "***\n",
    "\n",
    "# <font color=green>**KNN (on iris data)**</font>"
   ]
  },
  {
   "cell_type": "code",
   "execution_count": null,
   "id": "f5047e82",
   "metadata": {},
   "outputs": [],
   "source": [
    "acc = []\n",
    "knn = KNeighborsClassifier()\n",
    "\n",
    "for i in range(10):\n",
    "    X_train, X_test, Y_train, Y_test = train_test_split(X, Y, test_size=0.25, random_state=i+1)\n",
    "    knn.fit(X_train, Y_train)\n",
    "    prediction2 = knn.predict(X_test)\n",
    "    acc.append(metrics.accuracy_score(Y_test, prediction2))\n",
    "    \n",
    "acc = sum(acc)/len(acc) "
   ]
  },
  {
   "cell_type": "code",
   "execution_count": null,
   "id": "8d81ca7b",
   "metadata": {},
   "outputs": [],
   "source": [
    "acc_rs_iris_knn = acc*100\n",
    "print(\"Acuuracy on the test data\", acc_rs_iris_knn, \"%\")"
   ]
  },
  {
   "cell_type": "markdown",
   "id": "c1a015d2",
   "metadata": {},
   "source": [
    "***\n",
    "# <font color=green>**KNN (on Breast Cancer data)**</font>"
   ]
  },
  {
   "cell_type": "code",
   "execution_count": null,
   "id": "5f273d8a",
   "metadata": {},
   "outputs": [],
   "source": [
    "acc = []\n",
    "knn_c = KNeighborsClassifier()\n",
    "\n",
    "for i in range(10):\n",
    "    X_train_c, X_test_c, Y_train_c, Y_test_c = train_test_split(X_c, Y_c, test_size=0.25, random_state=i+1)\n",
    "    knn_c.fit(X_train_c, Y_train_c)\n",
    "    prediction2_c = knn_c.predict(X_test_c)\n",
    "    acc.append(metrics.accuracy_score(Y_test_c, prediction2_c))\n",
    "    \n",
    "acc = sum(acc)/len(acc) "
   ]
  },
  {
   "cell_type": "code",
   "execution_count": null,
   "id": "2f967cf7",
   "metadata": {},
   "outputs": [],
   "source": [
    "acc_rs_breast_knn = acc*100\n",
    "print(\"Acuuracy on the test data\", acc_rs_breast_knn, \"%\")"
   ]
  },
  {
   "cell_type": "markdown",
   "id": "577a023f",
   "metadata": {},
   "source": [
    "***\n",
    "# <font color=orage>**NAIVE BAYES(on iris data)**</font>"
   ]
  },
  {
   "cell_type": "code",
   "execution_count": null,
   "id": "9e0e3b27",
   "metadata": {},
   "outputs": [],
   "source": [
    "acc = []\n",
    "nb = GaussianNB()\n",
    "\n",
    "for i in range(10):\n",
    "    X_train, X_test, Y_train, Y_test = train_test_split(X, Y, test_size=0.25, random_state=i+1)\n",
    "    nb.fit(X_train, Y_train)\n",
    "    prediction_nb = nb.predict(X_test)\n",
    "    acc.append(metrics.accuracy_score(Y_test, prediction_nb))\n",
    "    \n",
    "acc = sum(acc)/len(acc) "
   ]
  },
  {
   "cell_type": "code",
   "execution_count": null,
   "id": "d71f4a8b",
   "metadata": {},
   "outputs": [],
   "source": [
    "acc_rs_iris_nb = acc*100\n",
    "print(\"Acuuracy on the test data\", acc_rs_iris_nb, \"%\")"
   ]
  },
  {
   "cell_type": "markdown",
   "id": "0c6bbfed",
   "metadata": {},
   "source": [
    "***\n",
    "# <font color=orage>**NAIVE BAYES(on Breast cancer data)**</font>"
   ]
  },
  {
   "cell_type": "code",
   "execution_count": null,
   "id": "4d7bd753",
   "metadata": {},
   "outputs": [],
   "source": [
    "acc = []\n",
    "nb = GaussianNB()\n",
    "\n",
    "for i in range(10):\n",
    "    X_train_c, X_test_c, Y_train_c, Y_test_c = train_test_split(X_c, Y_c, test_size=0.25, random_state=i+1)\n",
    "    nb_c.fit(X_train_c, Y_train_c)\n",
    "    prediction_nbc = nb_c.predict(X_test_c)\n",
    "    acc.append(metrics.accuracy_score(Y_test_c, prediction_nbc))\n",
    "    \n",
    "acc = sum(acc)/len(acc) "
   ]
  },
  {
   "cell_type": "code",
   "execution_count": null,
   "id": "f1a9b234",
   "metadata": {},
   "outputs": [],
   "source": [
    "acc_rs_breast_nb = acc*100\n",
    "print(\"Acuuracy on the test data\", acc_rs_breast_nb, \"%\")"
   ]
  },
  {
   "cell_type": "markdown",
   "id": "2157930e",
   "metadata": {},
   "source": [
    "****\n",
    "# <font color=red>**1.HOLDOUT METHOD**</font>"
   ]
  },
  {
   "cell_type": "markdown",
   "id": "9ae92a13",
   "metadata": {},
   "source": [
    "#### Training set = 66.6% (2/3rd of total), Test set = 33.3%"
   ]
  },
  {
   "cell_type": "code",
   "execution_count": null,
   "id": "a0ac953f",
   "metadata": {},
   "outputs": [],
   "source": [
    "X_train, X_test, Y_train, Y_test = train_test_split(X, Y, test_size=0.33, random_state=0)\n",
    "X_train_c, X_test_c, Y_train_c, Y_test_c = train_test_split(X_c, Y_c, test_size=0.33, random_state=0)"
   ]
  },
  {
   "cell_type": "code",
   "execution_count": null,
   "id": "6982e92b",
   "metadata": {},
   "outputs": [],
   "source": [
    "print(\"For Iris\", X_train.shape)\n",
    "print(\"For Breast Cancer\", X_train_c.shape)"
   ]
  },
  {
   "cell_type": "code",
   "execution_count": null,
   "id": "3bb8cd7a",
   "metadata": {},
   "outputs": [],
   "source": [
    "print(\"For Iris\", X_test.shape)\n",
    "print(\"For Breast Cancer\", X_test_c.shape)"
   ]
  },
  {
   "cell_type": "code",
   "execution_count": null,
   "id": "7db59d62",
   "metadata": {},
   "outputs": [],
   "source": [
    "print(\"For Iris\", Y_train.shape)\n",
    "print(\"For Breast Cancer\", Y_train_c.shape)"
   ]
  },
  {
   "cell_type": "code",
   "execution_count": null,
   "id": "774c9d9d",
   "metadata": {},
   "outputs": [],
   "source": [
    "print(\"For Iris\", Y_test.shape)\n",
    "print(\"For Breast Cancer\", Y_test_c.shape)"
   ]
  },
  {
   "cell_type": "markdown",
   "id": "8a1db512",
   "metadata": {},
   "source": [
    "***\n",
    "# <font color=brown>**DECISION TREE (on iris data)**</font>"
   ]
  },
  {
   "cell_type": "code",
   "execution_count": null,
   "id": "f27f413a",
   "metadata": {},
   "outputs": [],
   "source": [
    "dec_tree = DecisionTreeClassifier(criterion = \"entropy\")\n",
    "dec_tree.fit(X_train, Y_train)\n",
    "prediction = dec_tree.predict(X_test)"
   ]
  },
  {
   "cell_type": "code",
   "execution_count": null,
   "id": "88f582b0",
   "metadata": {},
   "outputs": [],
   "source": [
    "ConfusionMatrixDisplay.from_estimator(dec_tree, X_test, Y_test)"
   ]
  },
  {
   "cell_type": "code",
   "execution_count": null,
   "id": "267ede2d",
   "metadata": {},
   "outputs": [],
   "source": [
    "print(\"Accuracy on the test data \",  metrics.accuracy_score(Y_test, prediction)*100)\n",
    "print(\"\\nClassification report on the test data \", metrics.classification_report(Y_test, prediction))"
   ]
  },
  {
   "cell_type": "markdown",
   "id": "b1f797b3",
   "metadata": {},
   "source": [
    "***\n",
    "# <font color=brown>**DECISION TREE (on Breast cancer data)**</font>"
   ]
  },
  {
   "cell_type": "code",
   "execution_count": null,
   "id": "0b309d50",
   "metadata": {},
   "outputs": [],
   "source": [
    "dec_tree1_c = DecisionTreeClassifier(criterion = \"entropy\")\n",
    "dec_tree1_c.fit(X_train_c, Y_train_c)\n",
    "prediction_c = dec_tree1_c.predict(X_test_c)"
   ]
  },
  {
   "cell_type": "code",
   "execution_count": null,
   "id": "0b6bb0a5",
   "metadata": {},
   "outputs": [],
   "source": [
    "ConfusionMatrixDisplay.from_estimator(dec_tree1_c, X_test_c, Y_test_c)"
   ]
  },
  {
   "cell_type": "code",
   "execution_count": null,
   "id": "a6b2567e",
   "metadata": {},
   "outputs": [],
   "source": [
    "print(\"Accuracy on the test data \",  metrics.accuracy_score(Y_test_c, prediction_c)*100)\n",
    "print(\"\\nClassification report on the test data \", metrics.classification_report(Y_test_c, prediction_c))"
   ]
  },
  {
   "cell_type": "markdown",
   "id": "12e6639b",
   "metadata": {},
   "source": [
    "***\n",
    "# <font color=green>**KNN (on iris data)**</font>"
   ]
  },
  {
   "cell_type": "code",
   "execution_count": null,
   "id": "dbe71b3e",
   "metadata": {},
   "outputs": [],
   "source": [
    "knn = KNeighborsClassifier()\n",
    "knn.fit(X_train, Y_train)\n",
    "prediction2 = knn.predict(X_test)"
   ]
  },
  {
   "cell_type": "code",
   "execution_count": null,
   "id": "beaac687",
   "metadata": {},
   "outputs": [],
   "source": [
    "ConfusionMatrixDisplay.from_estimator(knn,X_test, Y_test)"
   ]
  },
  {
   "cell_type": "code",
   "execution_count": null,
   "id": "008f14f9",
   "metadata": {},
   "outputs": [],
   "source": [
    "acc_hold_iris_knn = metrics.accuracy_score(Y_test, prediction2)*100\n",
    "print(\"Accuracy on the test data \", acc_hold_iris_knn)\n",
    "print(\"\\nClassification report on the test data \", metrics.classification_report(Y_test, prediction2))"
   ]
  },
  {
   "cell_type": "markdown",
   "id": "4615f819",
   "metadata": {},
   "source": [
    "***\n",
    "# <font color=green>**KNN (on Breast Cancer data)**</font>"
   ]
  },
  {
   "cell_type": "code",
   "execution_count": null,
   "id": "e996b0b3",
   "metadata": {},
   "outputs": [],
   "source": [
    "knn_c = KNeighborsClassifier()\n",
    "knn_c.fit(X_train_c, Y_train_c)\n",
    "prediction2_c = knn_c.predict(X_test_c)"
   ]
  },
  {
   "cell_type": "code",
   "execution_count": null,
   "id": "62aa76e0",
   "metadata": {},
   "outputs": [],
   "source": [
    "ConfusionMatrixDisplay.from_estimator(knn1,X_test_c, Y_test_c)"
   ]
  },
  {
   "cell_type": "code",
   "execution_count": null,
   "id": "960a94f4",
   "metadata": {},
   "outputs": [],
   "source": [
    "acc_hold_breat_knn = metrics.accuracy_score(Y_test_c, prediction2_c)*100\n",
    "print(\"Accuracy on the test data \", acc_hold_breat_knn)\n",
    "print(\"\\nClassification report on the test data \", metrics.classification_report(Y_test_c, prediction2_c))"
   ]
  },
  {
   "cell_type": "markdown",
   "id": "5dd3be4f",
   "metadata": {},
   "source": [
    "***\n",
    "# <font color=orage>**NAIVE BAYES(on iris data)**</font>"
   ]
  },
  {
   "cell_type": "code",
   "execution_count": null,
   "id": "9a2b5ec4",
   "metadata": {},
   "outputs": [],
   "source": [
    "nb = GaussianNB()\n",
    "nb.fit(X_train, Y_train)\n",
    "prediction_nb = nb.predict(X_test)"
   ]
  },
  {
   "cell_type": "code",
   "execution_count": null,
   "id": "acc20b31",
   "metadata": {},
   "outputs": [],
   "source": [
    "ConfusionMatrixDisplay.from_estimator(nb,X_test, Y_test)"
   ]
  },
  {
   "cell_type": "code",
   "execution_count": null,
   "id": "516e4cda",
   "metadata": {},
   "outputs": [],
   "source": [
    "print(\"Accuracy on the test data \")\n",
    "acc_hold_iris_nb = metrics.accuracy_score(Y_test, prediction_nb)*100\n",
    "\n",
    "print(f\"Naive-bayes accuracy: {acc_hold_iris_nb}%\")\n",
    "print(\"\\nClassification report on the test data \", metrics.classification_report(Y_test, prediction_nb))"
   ]
  },
  {
   "cell_type": "markdown",
   "id": "51aa16c4",
   "metadata": {},
   "source": [
    "***\n",
    "# <font color=orage>**NAIVE BAYES(on Breast cancer data)**</font>"
   ]
  },
  {
   "cell_type": "code",
   "execution_count": null,
   "id": "205a54c4",
   "metadata": {},
   "outputs": [],
   "source": [
    "nb_c = GaussianNB()\n",
    "nb_c.fit(X_train_c, Y_train_c)\n",
    "prediction_nbc = nb_c.predict(X_test_c)"
   ]
  },
  {
   "cell_type": "code",
   "execution_count": null,
   "id": "b070b0ee",
   "metadata": {},
   "outputs": [],
   "source": [
    "ConfusionMatrixDisplay.from_estimator(nb_c,X_test_c, Y_test_c)"
   ]
  },
  {
   "cell_type": "code",
   "execution_count": null,
   "id": "64a7ff5a",
   "metadata": {},
   "outputs": [],
   "source": [
    "print(\"Accuracy on the test data \")\n",
    "acc_hold_breast_nb = metrics.accuracy_score(Y_test_c, prediction_nbc)*100\n",
    "\n",
    "print(f\"Naive-bayes accuracy: {acc_hold_breast_nb}%\")\n",
    "print(\"\\nClassification report on the test data \", metrics.classification_report(Y_test_c, prediction_nbc))"
   ]
  },
  {
   "cell_type": "markdown",
   "id": "25e233cf",
   "metadata": {},
   "source": [
    "****\n",
    "# <font color=red>**2. RANDOM SUBSAMPLING**</font>"
   ]
  },
  {
   "cell_type": "markdown",
   "id": "ad12fe74",
   "metadata": {},
   "source": [
    "***\n",
    "# <font color=brown>**DECISION TREE (on iris data)**</font>"
   ]
  },
  {
   "cell_type": "code",
   "execution_count": null,
   "id": "f935db38",
   "metadata": {},
   "outputs": [],
   "source": [
    "acc = []\n",
    "dec_tree = DecisionTreeClassifier(criterion = \"entropy\")\n",
    "\n",
    "for i in range(10):\n",
    "    X_train, X_test, Y_train, Y_test = train_test_split(X, Y, test_size=0.33, random_state=i+1)\n",
    "    dec_tree.fit(X_train, Y_train)\n",
    "    prediction = dec_tree.predict(X_test)\n",
    "    acc.append(metrics.accuracy_score(Y_test, prediction))\n",
    "    \n",
    "acc = sum(acc)/len(acc) "
   ]
  },
  {
   "cell_type": "code",
   "execution_count": null,
   "id": "91073ad3",
   "metadata": {},
   "outputs": [],
   "source": [
    "acc_rs_iris_dt = acc*100\n",
    "print(\"Acuuracy on the test data\", acc_rs_iris_dt, \"%\")"
   ]
  },
  {
   "cell_type": "markdown",
   "id": "d71e602f",
   "metadata": {},
   "source": [
    "***\n",
    "# <font color=brown>**DECISION TREE (on Breast cancer data)**</font>"
   ]
  },
  {
   "cell_type": "code",
   "execution_count": null,
   "id": "bd3df705",
   "metadata": {},
   "outputs": [],
   "source": [
    "acc = []\n",
    "dec_tree_c = DecisionTreeClassifier(criterion = \"entropy\")\n",
    "\n",
    "for i in range(10):\n",
    "    X_train_c, X_test_c, Y_train_c, Y_test_c = train_test_split(X_c, Y_c, test_size=0.33, random_state=i+1)\n",
    "    dec_tree_c.fit(X_train_c, Y_train_c)\n",
    "    prediction_c = dec_tree_c.predict(X_test_c)\n",
    "    acc.append(metrics.accuracy_score(Y_test_c, prediction_c))\n",
    "    \n",
    "acc = sum(acc)/len(acc) "
   ]
  },
  {
   "cell_type": "code",
   "execution_count": null,
   "id": "9e8a6f9b",
   "metadata": {},
   "outputs": [],
   "source": [
    "acc_rs_iris_dt = acc*100\n",
    "print(\"Acuuracy on the test data\", acc_rs_iris_dt, \"%\")"
   ]
  },
  {
   "cell_type": "markdown",
   "id": "e49b3938",
   "metadata": {},
   "source": [
    "***\n",
    "\n",
    "# <font color=green>**KNN (on iris data)**</font>"
   ]
  },
  {
   "cell_type": "code",
   "execution_count": null,
   "id": "81a64df5",
   "metadata": {},
   "outputs": [],
   "source": [
    "acc = []\n",
    "knn = KNeighborsClassifier()\n",
    "\n",
    "for i in range(10):\n",
    "    X_train, X_test, Y_train, Y_test = train_test_split(X, Y, test_size=0.33, random_state=i+1)\n",
    "    knn.fit(X_train, Y_train)\n",
    "    prediction2 = knn.predict(X_test)\n",
    "    acc.append(metrics.accuracy_score(Y_test, prediction2))\n",
    "    \n",
    "acc = sum(acc)/len(acc) "
   ]
  },
  {
   "cell_type": "code",
   "execution_count": null,
   "id": "54b0fff9",
   "metadata": {},
   "outputs": [],
   "source": [
    "acc_rs_iris_knn = acc*100\n",
    "print(\"Acuuracy on the test data\", acc_rs_iris_knn, \"%\")"
   ]
  },
  {
   "cell_type": "markdown",
   "id": "c3fd1fd5",
   "metadata": {},
   "source": [
    "***\n",
    "# <font color=green>**KNN (on Breast Cancer data)**</font>"
   ]
  },
  {
   "cell_type": "code",
   "execution_count": null,
   "id": "70ac7004",
   "metadata": {},
   "outputs": [],
   "source": [
    "acc = []\n",
    "knn_c = KNeighborsClassifier()\n",
    "\n",
    "for i in range(10):\n",
    "    X_train_c, X_test_c, Y_train_c, Y_test_c = train_test_split(X_c, Y_c, test_size=0.33, random_state=i+1)\n",
    "    knn_c.fit(X_train_c, Y_train_c)\n",
    "    prediction2_c = knn_c.predict(X_test_c)\n",
    "    acc.append(metrics.accuracy_score(Y_test_c, prediction2_c))\n",
    "    \n",
    "acc = sum(acc)/len(acc) "
   ]
  },
  {
   "cell_type": "code",
   "execution_count": null,
   "id": "1b334d30",
   "metadata": {},
   "outputs": [],
   "source": [
    "acc_rs_breast_knn = acc*100\n",
    "print(\"Acuuracy on the test data\", acc_rs_breast_knn, \"%\")"
   ]
  },
  {
   "cell_type": "markdown",
   "id": "11d703b3",
   "metadata": {},
   "source": [
    "***\n",
    "# <font color=orage>**NAIVE BAYES(on iris data)**</font>"
   ]
  },
  {
   "cell_type": "code",
   "execution_count": null,
   "id": "30bb70eb",
   "metadata": {},
   "outputs": [],
   "source": [
    "acc = []\n",
    "nb = GaussianNB()\n",
    "\n",
    "for i in range(10):\n",
    "    X_train, X_test, Y_train, Y_test = train_test_split(X, Y, test_size=0.33, random_state=i+1)\n",
    "    nb.fit(X_train, Y_train)\n",
    "    prediction_nb = nb.predict(X_test)\n",
    "    acc.append(metrics.accuracy_score(Y_test, prediction_nb))\n",
    "    \n",
    "acc = sum(acc)/len(acc) "
   ]
  },
  {
   "cell_type": "code",
   "execution_count": null,
   "id": "53e85a69",
   "metadata": {},
   "outputs": [],
   "source": [
    "acc_rs_iris_nb = acc*100\n",
    "print(\"Acuuracy on the test data\", acc_rs_iris_nb, \"%\")"
   ]
  },
  {
   "cell_type": "markdown",
   "id": "ac796d9c",
   "metadata": {},
   "source": [
    "***\n",
    "# <font color=orage>**NAIVE BAYES(on Breast cancer data)**</font>"
   ]
  },
  {
   "cell_type": "code",
   "execution_count": null,
   "id": "218bc757",
   "metadata": {},
   "outputs": [],
   "source": [
    "acc = []\n",
    "nb = GaussianNB()\n",
    "\n",
    "for i in range(10):\n",
    "    X_train_c, X_test_c, Y_train_c, Y_test_c = train_test_split(X_c, Y_c, test_size=0.33, random_state=i+1)\n",
    "    nb_c.fit(X_train_c, Y_train_c)\n",
    "    prediction_nbc = nb_c.predict(X_test_c)\n",
    "    acc.append(metrics.accuracy_score(Y_test_c, prediction_nbc))\n",
    "    \n",
    "acc = sum(acc)/len(acc) "
   ]
  },
  {
   "cell_type": "code",
   "execution_count": null,
   "id": "78a88bb5",
   "metadata": {},
   "outputs": [],
   "source": [
    "acc_rs_breast_nb = acc*100\n",
    "print(\"Acuuracy on the test data\", acc_rs_breast_nb, \"%\")"
   ]
  },
  {
   "cell_type": "markdown",
   "id": "b09d156a",
   "metadata": {},
   "source": [
    "****\n",
    "# <font color=red>**3. CROSS VALIDATION**</font>"
   ]
  },
  {
   "cell_type": "markdown",
   "id": "634520ca",
   "metadata": {},
   "source": [
    "***\n",
    "# <font color=brown>**DECISION TREE (on iris data)**</font>"
   ]
  },
  {
   "cell_type": "code",
   "execution_count": null,
   "id": "e2247c43",
   "metadata": {},
   "outputs": [],
   "source": [
    "from sklearn.model_selection import KFold\n",
    "from sklearn.model_selection import cross_val_score"
   ]
  },
  {
   "cell_type": "code",
   "execution_count": null,
   "id": "50ea2ee2",
   "metadata": {},
   "outputs": [],
   "source": [
    "dec_tree = DecisionTreeClassifier(criterion = \"entropy\")\n",
    "score1 = cross_val_score(dec_tree, X, Y, cv=4)"
   ]
  },
  {
   "cell_type": "code",
   "execution_count": null,
   "id": "517a6c35",
   "metadata": {},
   "outputs": [],
   "source": [
    "acc_cv_iris_dt = score1.mean()*100\n",
    "print(\"Accuracy on the test Data \", acc_cv_iris_dt, \"%\")"
   ]
  },
  {
   "cell_type": "markdown",
   "id": "c2b2db06",
   "metadata": {},
   "source": [
    "***\n",
    "# <font color=brown>**DECISION TREE (on Breast cancer data)**</font>"
   ]
  },
  {
   "cell_type": "code",
   "execution_count": null,
   "id": "de945d5c",
   "metadata": {},
   "outputs": [],
   "source": [
    "dec_tree_c = DecisionTreeClassifier(criterion = \"entropy\")\n",
    "score1 = cross_val_score(dec_tree_c, X_c, Y_c, cv=4)"
   ]
  },
  {
   "cell_type": "code",
   "execution_count": null,
   "id": "4e99193a",
   "metadata": {},
   "outputs": [],
   "source": [
    "acc_cv_breast_dt = score1.mean()*100\n",
    "print(\"Accuracy on the test Data \", acc_cv_breast_dt, \"%\")"
   ]
  },
  {
   "cell_type": "markdown",
   "id": "55498671",
   "metadata": {},
   "source": [
    "***\n",
    "\n",
    "# <font color=green>**KNN (on iris data)**</font>"
   ]
  },
  {
   "cell_type": "code",
   "execution_count": null,
   "id": "7b71a624",
   "metadata": {},
   "outputs": [],
   "source": [
    "knn = KNeighborsClassifier()\n",
    "score2 = cross_val_score(knn, X, Y, cv=4)"
   ]
  },
  {
   "cell_type": "code",
   "execution_count": null,
   "id": "0bae8732",
   "metadata": {},
   "outputs": [],
   "source": [
    "acc_cv_iris_knn = score2.mean()*100\n",
    "print(\"Accuracy on the test Data \", acc_cv_iris_knn, \"%\")"
   ]
  },
  {
   "cell_type": "markdown",
   "id": "c126dbd7",
   "metadata": {},
   "source": [
    "***\n",
    "# <font color=green>**KNN (on Breast Cancer data)**</font>"
   ]
  },
  {
   "cell_type": "code",
   "execution_count": null,
   "id": "b1dd90c4",
   "metadata": {},
   "outputs": [],
   "source": [
    "knn_c = KNeighborsClassifier()\n",
    "score2 = cross_val_score(knn_c, X_c, Y_c, cv=4)"
   ]
  },
  {
   "cell_type": "code",
   "execution_count": null,
   "id": "9ff59411",
   "metadata": {},
   "outputs": [],
   "source": [
    "acc_cv_breast_knn = score2.mean()*100\n",
    "print(\"Accuracy on the test Data \", acc_cv_breast_knn, \"%\")"
   ]
  },
  {
   "cell_type": "markdown",
   "id": "c785ed0f",
   "metadata": {},
   "source": [
    "***\n",
    "# <font color=orage>**NAIVE BAYES(on iris data)**</font>"
   ]
  },
  {
   "cell_type": "code",
   "execution_count": null,
   "id": "09659755",
   "metadata": {},
   "outputs": [],
   "source": [
    "nb = GaussianNB()\n",
    "score3 = cross_val_score(nb, X, Y, cv=4)"
   ]
  },
  {
   "cell_type": "code",
   "execution_count": null,
   "id": "125e7224",
   "metadata": {},
   "outputs": [],
   "source": [
    "acc_cv_iris_nb = score3.mean()*100\n",
    "print(\"Accuracy on the test Data \", acc_cv_iris_knn, \"%\")"
   ]
  },
  {
   "cell_type": "markdown",
   "id": "abe39718",
   "metadata": {},
   "source": [
    "***\n",
    "# <font color=orage>**NAIVE BAYES(on Breast cancer data)**</font>"
   ]
  },
  {
   "cell_type": "code",
   "execution_count": null,
   "id": "6016522a",
   "metadata": {},
   "outputs": [],
   "source": [
    "nb_c = GaussianNB()\n",
    "score3 = cross_val_score(nb_c, X_c, Y_c, cv=4)"
   ]
  },
  {
   "cell_type": "code",
   "execution_count": null,
   "id": "3af96ae8",
   "metadata": {},
   "outputs": [],
   "source": [
    "acc_cv_breast_nb = score3.mean()*100\n",
    "print(\"Accuracy on the test Data \", acc_cv_breast_nb, \"%\")"
   ]
  },
  {
   "cell_type": "markdown",
   "id": "50f3eb48",
   "metadata": {},
   "source": [
    "****\n",
    "# <font color=red>**FINAL RESULTS**</font>"
   ]
  },
  {
   "cell_type": "markdown",
   "id": "86c3abfc",
   "metadata": {},
   "source": [
    "****\n",
    "# <font color=red>**1.HOLDOUT METHOD**</font>"
   ]
  },
  {
   "cell_type": "code",
   "execution_count": null,
   "id": "d33afd78",
   "metadata": {},
   "outputs": [],
   "source": [
    "print(\"Accuracy of the Decision tree model on the iris data: \",acc_hold_iris1)\n",
    "print(\"Accuracy of the decision tree model on the breast cancer data: \",acc_hold_breast1,\"\\n\")\n",
    "\n",
    "print(\"Accuracy of the knn model on the iris data: \",acc_hold_iris_knn)\n",
    "print(\"Accuracy of the knn model on the breast cancer data: \",acc_hold_breast_knn,\"\\n\")\n",
    "\n",
    "\n",
    "print(\"Accuracy of the Naive bayes model on the iris data: \",acc_hold_iris_nb)\n",
    "print(\"Accuracy of the Naive bayes model on the breast cancer data: \",acc_hold_breast_nb)"
   ]
  },
  {
   "cell_type": "markdown",
   "id": "86d36caa",
   "metadata": {},
   "source": [
    "****\n",
    "# <font color=red>**2. RANDOM SUBSAMPLING**</font>"
   ]
  },
  {
   "cell_type": "code",
   "execution_count": null,
   "id": "3e49bc87",
   "metadata": {},
   "outputs": [],
   "source": [
    "print(\"Accuracy of the Decision tree model on the iris data: \",acc_rs_iris_dt)\n",
    "print(\"Accuracy of the decision tree model on the breast cancer data: \",acc_rs_breast_dt,\"\\n\")\n",
    "\n",
    "print(\"Accuracy of the knn model on the iris data: \",acc_rs_iris_knn)\n",
    "print(\"Accuracy of the knn model on the breast cancer data: \",acc_rs_breast_knn,\"\\n\")\n",
    "\n",
    "\n",
    "print(\"Accuracy of the Naive bayes model on the iris data: \",acc_rs_iris_nb)\n",
    "print(\"Accuracy of the Naive bayes model on the breast cancer data: \",acc_rs_breast_nb)"
   ]
  },
  {
   "cell_type": "markdown",
   "id": "21f3aef6",
   "metadata": {},
   "source": [
    "****\n",
    "# <font color=red>**3. CROSS VALIDATION**</font>"
   ]
  },
  {
   "cell_type": "code",
   "execution_count": null,
   "id": "91cb2ec9",
   "metadata": {},
   "outputs": [],
   "source": [
    "print(\"Accuracy of the Decision tree model on the iris data: \",acc_cv_iris_dt)\n",
    "print(\"Accuracy of the decision tree model on the breast cancer data: \",acc_cv_breast_dt,\"\\n\")\n",
    "\n",
    "print(\"Accuracy of the knn model on the iris data: \",acc_cv_iris_knn)\n",
    "print(\"Accuracy of the knn model on the breast cancer data: \",acc_cv_breast_knn,\"\\n\")\n",
    "\n",
    "\n",
    "print(\"Accuracy of the Naive bayes model on the iris data: \",acc_cv_iris_nb)\n",
    "print(\"Accuracy of the Naive bayes model on the breast cancer data: \",acc_cv_breast_nb)"
   ]
  },
  {
   "cell_type": "markdown",
   "id": "3ce8d777",
   "metadata": {},
   "source": [
    "***\n",
    "# <font color=orage>**VISUAL REPRESENTATION**</font>"
   ]
  },
  {
   "cell_type": "code",
   "execution_count": null,
   "id": "2916dd5f",
   "metadata": {},
   "outputs": [],
   "source": [
    "import matplotlib.pyplot as plt"
   ]
  },
  {
   "cell_type": "code",
   "execution_count": null,
   "id": "b5aeef0a",
   "metadata": {},
   "outputs": [],
   "source": [
    "X = [\"Desicion Tree\", \"KNN\", \"Naive bayes\"]\n",
    "Yiris = [acc_hold_iris1, acc_hold_iris_knn, acc_hold_iris_nb]\n",
    "Ybc = [acc_hold_breast1, acc_hold_breast_knn, acc_hold_breast_nb]\n",
    "\n",
    "X_axis = np.arange(len(X))\n",
    "\n",
    "plt.bar(X_axis - 0.2, Yiris, 0.4, label=\"Iris\" )\n",
    "plt.bar(X_axis + 0.2, Ybc, 0.4, label=\"Breast Cancer\")\n",
    "\n",
    "plt.xlabel(\"Classifier Used\")\n",
    "plt.ylabel(\"% of accuracy achieved\")\n",
    "plt.title(\"Accuracy of the Classifier using holdout\")\n",
    "plt.xticks(X_axis, X, rotation =20)\n",
    "plt.legend()\n",
    "plt.show()"
   ]
  },
  {
   "cell_type": "code",
   "execution_count": null,
   "id": "568f9fb8",
   "metadata": {},
   "outputs": [],
   "source": [
    "X = [\"Desicion Tree\", \"KNN\", \"Naive bayes\"]\n",
    "Yiris = [acc_rs_iris_dt, acc_rs_iris_knn, acc_rs_iris_nb]\n",
    "Ybc = [acc_rs_breast_dt, acc_rs_breast_knn, acc_rs_breast_nb]\n",
    "\n",
    "X_axis = np.arange(len(X))\n",
    "\n",
    "plt.bar(X_axis - 0.2, Yiris, 0.4, label=\"Iris\" )\n",
    "plt.bar(X_axis + 0.2, Ybc, 0.4, label=\"Breast Cancer\")\n",
    "\n",
    "plt.xlabel(\"Classifier Used\")\n",
    "plt.ylabel(\"% of accuracy achieved\")\n",
    "plt.title(\"Accuracy of the Classifier using Random Subsampling\")\n",
    "plt.xticks(X_axis, X, rotation =20)\n",
    "plt.legend()\n",
    "plt.show()"
   ]
  },
  {
   "cell_type": "code",
   "execution_count": null,
   "id": "8b7cce9b",
   "metadata": {},
   "outputs": [],
   "source": [
    "X = [\"Desicion Tree\", \"KNN\", \"Naive bayes\"]\n",
    "Yiris = [acc_cv_iris_dt, acc_cv_iris_knn, acc_cv_iris_nb]\n",
    "Ybc = [acc_cv_breast_dt, acc_cv_breast_knn, acc_cv_breast_nb]\n",
    "\n",
    "X_axis = np.arange(len(X))\n",
    "\n",
    "plt.bar(X_axis - 0.2, Yiris, 0.4, label=\"Iris\" )\n",
    "plt.bar(X_axis + 0.2, Ybc, 0.4, label=\"Breast Cancer\")\n",
    "\n",
    "plt.xlabel(\"Classifier Used\")\n",
    "plt.ylabel(\"% of accuracy achieved\")\n",
    "plt.title(\"Accuracy of the Classifier using Cross Validation\")\n",
    "plt.xticks(X_axis, X, rotation =20)\n",
    "plt.legend()\n",
    "plt.show()"
   ]
  },
  {
   "cell_type": "code",
   "execution_count": null,
   "id": "4b980750",
   "metadata": {},
   "outputs": [],
   "source": []
  }
 ],
 "metadata": {
  "kernelspec": {
   "display_name": "Python 3 (ipykernel)",
   "language": "python",
   "name": "python3"
  },
  "language_info": {
   "codemirror_mode": {
    "name": "ipython",
    "version": 3
   },
   "file_extension": ".py",
   "mimetype": "text/x-python",
   "name": "python",
   "nbconvert_exporter": "python",
   "pygments_lexer": "ipython3",
   "version": "3.11.5"
  }
 },
 "nbformat": 4,
 "nbformat_minor": 5
}
